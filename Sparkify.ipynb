{
 "cells": [
  {
   "cell_type": "markdown",
   "metadata": {},
   "source": [
    "# Sparkify Project Workspace\n",
    "This workspace contains a tiny subset (128MB) of the full dataset available (12GB). Feel free to use this workspace to build your project, or to explore a smaller subset with Spark before deploying your cluster on the cloud. Instructions for setting up your Spark cluster is included in the last lesson of the Extracurricular Spark Course content.\n",
    "\n",
    "You can follow the steps below to guide your data analysis and model building portion of this project."
   ]
  },
  {
   "cell_type": "markdown",
   "metadata": {},
   "source": [
    "## What it is about\n",
    "\n",
    "Sparkify is an imaginary music streaming platform. The data provided is user activity data on the platform. Users can use the plattform in a free or in a paid version. Natuarally, the more paid accounts there are the better. Vice versa, users quitting the paid version or even the free version results in less direct and indirect revenue for Sparkify. This excercise project is done as the final project in the Udacity \"Data Scientist\" course and aims at trying to predict what users are likely to \"churn\" i.e. quit the paid version (or free version) alltogether. \n",
    "An understanding of who might be more likely to quit would then be the basis for the planning of countermeasures i.e. special offers or questionaires etc. . The countermeausres are not part of the excercise anymore.\n",
    "\n",
    "This will be done by using Python and Spark to\n",
    "\n",
    "    1) load, clean and analyze the data. Exploratory Data Analysis (EDA)\n",
    "    2) build features to be used for the machine learning algoriths and modelling\n",
    "    3) model the data\n",
    "    4) analyze the modeling results\n",
    "    \n",
    "### Why using Spark\n",
    "The data set here is 0,128 GB. Spark is the tool of choice to analyse much bigger datasets. It is used here as a training ground for handling bigger datasets in the future. Due to several issues on my local machine and in tuser workspace (mostly to do with memory error messages) the focus here is on the small dataset due to time constraints.\n",
    "\n",
    "### Resources\n",
    "In order to overcome certain challenges on my local laptop and on the workspace provided by Udacity, several resources have been used. Besides the extracuricular course on Spark from Udacity the websites stockoverflow.com , pyspark documentation and github.com have been used as well as help section of Udacity."
   ]
  },
  {
   "cell_type": "code",
   "execution_count": 1,
   "metadata": {
    "scrolled": false
   },
   "outputs": [],
   "source": [
    "# Import libraries\n",
    "from pyspark.sql               import   SparkSession\n",
    "from pyspark.sql.functions     import   avg,           \\\n",
    "                                        count,         \\\n",
    "                                        countDistinct, \\\n",
    "                                        col,           \\\n",
    "                                        desc,          \\\n",
    "                                        isnan,         \\\n",
    "                                        max,           \\\n",
    "                                        mean,          \\\n",
    "                                        min,           \\\n",
    "                                        round,         \\\n",
    "                                        udf,           \\\n",
    "                                        when        \n",
    "\n",
    "from pyspark.sql.types         import   IntegerType\n",
    "from pyspark.ml                import   Pipeline\n",
    "from pyspark.ml.feature        import   OneHotEncoderEstimator, \\\n",
    "                                        StringIndexer,          \\\n",
    "                                        VectorAssembler\n",
    "\n",
    "from pyspark.ml.classification import   RandomForestClassifier\n",
    "from pyspark.ml.classification import   LogisticRegression,     \\\n",
    "                                        GBTClassifier,          \\\n",
    "                                        NaiveBayes\n",
    "\n",
    "from pyspark.ml.evaluation     import   BinaryClassificationEvaluator,    \\\n",
    "                                        MulticlassClassificationEvaluator\n",
    "\n",
    "from pyspark.mllib.evaluation  import   BinaryClassificationMetrics,       \\\n",
    "                                        MulticlassMetrics\n",
    "\n",
    "from pyspark.ml.tuning         import   CrossValidator,                    \\\n",
    "                                        ParamGridBuilder\n",
    "\n",
    "import numpy    as np\n",
    "import pandas   as pd\n",
    "import math\n",
    "import datetime\n",
    "import time\n",
    "import re\n",
    "import matplotlib.pyplot as plt\n",
    "import seaborn           as sns\n",
    "\n",
    "start_1=time.time()     # to see how long compilation of the whole notebook takes. Cf. time calculation at the end of the notebook"
   ]
  },
  {
   "cell_type": "code",
   "execution_count": 2,
   "metadata": {
    "scrolled": false
   },
   "outputs": [],
   "source": [
    "# Create a Spark session\n",
    "spark = SparkSession.builder \\\n",
    "    .appName('Sparkify')     \\\n",
    "    .getOrCreate()"
   ]
  },
  {
   "cell_type": "code",
   "execution_count": 3,
   "metadata": {},
   "outputs": [
    {
     "name": "stdout",
     "output_type": "stream",
     "text": [
      "Duration so far: 0.1 minutes\n"
     ]
    }
   ],
   "source": [
    "print('Duration so far: {0:.1f} minutes'.format((time.time() - start_1)/60))"
   ]
  },
  {
   "cell_type": "markdown",
   "metadata": {},
   "source": [
    "# Load Dataset\n",
    "In this workspace, the mini-dataset file is `mini_sparkify_event_data.json`. Load and clean the dataset, checking for invalid or **missing data** - for example, records without userids or sessionids. "
   ]
  },
  {
   "cell_type": "code",
   "execution_count": 4,
   "metadata": {
    "scrolled": false
   },
   "outputs": [],
   "source": [
    "path = 'mini_sparkify_event_data.json'\n",
    "df = spark.read.json(path)"
   ]
  },
  {
   "cell_type": "code",
   "execution_count": 5,
   "metadata": {
    "scrolled": false
   },
   "outputs": [
    {
     "data": {
      "text/plain": [
       "286500"
      ]
     },
     "execution_count": 5,
     "metadata": {},
     "output_type": "execute_result"
    }
   ],
   "source": [
    "df.count() \n",
    "# number of rows in dataset:"
   ]
  },
  {
   "cell_type": "code",
   "execution_count": 6,
   "metadata": {},
   "outputs": [
    {
     "data": {
      "text/plain": [
       "286500"
      ]
     },
     "execution_count": 6,
     "metadata": {},
     "output_type": "execute_result"
    }
   ],
   "source": [
    "df.distinct().count() \n",
    "# number of unique rows:"
   ]
  },
  {
   "cell_type": "code",
   "execution_count": 7,
   "metadata": {},
   "outputs": [
    {
     "data": {
      "text/plain": [
       "['artist',\n",
       " 'auth',\n",
       " 'firstName',\n",
       " 'gender',\n",
       " 'itemInSession',\n",
       " 'lastName',\n",
       " 'length',\n",
       " 'level',\n",
       " 'location',\n",
       " 'method',\n",
       " 'page',\n",
       " 'registration',\n",
       " 'sessionId',\n",
       " 'song',\n",
       " 'status',\n",
       " 'ts',\n",
       " 'userAgent',\n",
       " 'userId']"
      ]
     },
     "execution_count": 7,
     "metadata": {},
     "output_type": "execute_result"
    }
   ],
   "source": [
    "df.columns"
   ]
  },
  {
   "cell_type": "code",
   "execution_count": 8,
   "metadata": {
    "scrolled": false
   },
   "outputs": [
    {
     "name": "stdout",
     "output_type": "stream",
     "text": [
      "root\n",
      " |-- artist: string (nullable = true)\n",
      " |-- auth: string (nullable = true)\n",
      " |-- firstName: string (nullable = true)\n",
      " |-- gender: string (nullable = true)\n",
      " |-- itemInSession: long (nullable = true)\n",
      " |-- lastName: string (nullable = true)\n",
      " |-- length: double (nullable = true)\n",
      " |-- level: string (nullable = true)\n",
      " |-- location: string (nullable = true)\n",
      " |-- method: string (nullable = true)\n",
      " |-- page: string (nullable = true)\n",
      " |-- registration: long (nullable = true)\n",
      " |-- sessionId: long (nullable = true)\n",
      " |-- song: string (nullable = true)\n",
      " |-- status: long (nullable = true)\n",
      " |-- ts: long (nullable = true)\n",
      " |-- userAgent: string (nullable = true)\n",
      " |-- userId: string (nullable = true)\n",
      "\n"
     ]
    }
   ],
   "source": [
    "df.printSchema()"
   ]
  },
  {
   "cell_type": "code",
   "execution_count": 9,
   "metadata": {},
   "outputs": [
    {
     "name": "stdout",
     "output_type": "stream",
     "text": [
      "+----------------------+\n",
      "|count(DISTINCT userId)|\n",
      "+----------------------+\n",
      "|                   226|\n",
      "+----------------------+\n",
      "\n"
     ]
    }
   ],
   "source": [
    "df.select(countDistinct(\"userId\")).show()\n",
    "# Unique users:"
   ]
  },
  {
   "cell_type": "code",
   "execution_count": 10,
   "metadata": {},
   "outputs": [
    {
     "name": "stdout",
     "output_type": "stream",
     "text": [
      "+------------------------+\n",
      "|count(DISTINCT location)|\n",
      "+------------------------+\n",
      "|                     114|\n",
      "+------------------------+\n",
      "\n"
     ]
    }
   ],
   "source": [
    "df.select(countDistinct(\"location\")).show()\n",
    "#Unique locations:"
   ]
  },
  {
   "cell_type": "code",
   "execution_count": 11,
   "metadata": {},
   "outputs": [
    {
     "name": "stdout",
     "output_type": "stream",
     "text": [
      "+----------------------+\n",
      "|count(DISTINCT artist)|\n",
      "+----------------------+\n",
      "|                 17655|\n",
      "+----------------------+\n",
      "\n"
     ]
    }
   ],
   "source": [
    "df.select(countDistinct(\"artist\")).show()\n",
    "#Unique artists:"
   ]
  },
  {
   "cell_type": "markdown",
   "metadata": {},
   "source": [
    "#### There are about halfs as many unique locations as unique users in the small dataset."
   ]
  },
  {
   "cell_type": "code",
   "execution_count": 12,
   "metadata": {
    "scrolled": true
   },
   "outputs": [
    {
     "name": "stdout",
     "output_type": "stream",
     "text": [
      "+----------------------+\n",
      "|count(DISTINCT gender)|\n",
      "+----------------------+\n",
      "|                     2|\n",
      "+----------------------+\n",
      "\n"
     ]
    }
   ],
   "source": [
    "df.select(countDistinct(\"gender\")).show()     "
   ]
  },
  {
   "cell_type": "markdown",
   "metadata": {},
   "source": [
    "## Column names and first line as example"
   ]
  },
  {
   "cell_type": "code",
   "execution_count": 13,
   "metadata": {},
   "outputs": [
    {
     "data": {
      "text/html": [
       "<div>\n",
       "<style scoped>\n",
       "    .dataframe tbody tr th:only-of-type {\n",
       "        vertical-align: middle;\n",
       "    }\n",
       "\n",
       "    .dataframe tbody tr th {\n",
       "        vertical-align: top;\n",
       "    }\n",
       "\n",
       "    .dataframe thead th {\n",
       "        text-align: right;\n",
       "    }\n",
       "</style>\n",
       "<table border=\"1\" class=\"dataframe\">\n",
       "  <thead>\n",
       "    <tr style=\"text-align: right;\">\n",
       "      <th></th>\n",
       "      <th>artist</th>\n",
       "      <th>auth</th>\n",
       "      <th>firstName</th>\n",
       "      <th>gender</th>\n",
       "      <th>itemInSession</th>\n",
       "      <th>lastName</th>\n",
       "      <th>length</th>\n",
       "      <th>level</th>\n",
       "      <th>location</th>\n",
       "      <th>method</th>\n",
       "      <th>page</th>\n",
       "      <th>registration</th>\n",
       "      <th>sessionId</th>\n",
       "      <th>song</th>\n",
       "      <th>status</th>\n",
       "      <th>ts</th>\n",
       "      <th>userAgent</th>\n",
       "      <th>userId</th>\n",
       "    </tr>\n",
       "  </thead>\n",
       "  <tbody>\n",
       "    <tr>\n",
       "      <th>0</th>\n",
       "      <td>Martha Tilston</td>\n",
       "      <td>Logged In</td>\n",
       "      <td>Colin</td>\n",
       "      <td>M</td>\n",
       "      <td>50</td>\n",
       "      <td>Freeman</td>\n",
       "      <td>277.89016</td>\n",
       "      <td>paid</td>\n",
       "      <td>Bakersfield, CA</td>\n",
       "      <td>PUT</td>\n",
       "      <td>NextSong</td>\n",
       "      <td>1538173362000</td>\n",
       "      <td>29</td>\n",
       "      <td>Rockpools</td>\n",
       "      <td>200</td>\n",
       "      <td>1538352117000</td>\n",
       "      <td>Mozilla/5.0 (Windows NT 6.1; WOW64; rv:31.0) G...</td>\n",
       "      <td>30</td>\n",
       "    </tr>\n",
       "  </tbody>\n",
       "</table>\n",
       "</div>"
      ],
      "text/plain": [
       "           artist       auth firstName gender  itemInSession lastName  \\\n",
       "0  Martha Tilston  Logged In     Colin      M             50  Freeman   \n",
       "\n",
       "      length level         location method      page   registration  \\\n",
       "0  277.89016  paid  Bakersfield, CA    PUT  NextSong  1538173362000   \n",
       "\n",
       "   sessionId       song  status             ts  \\\n",
       "0         29  Rockpools     200  1538352117000   \n",
       "\n",
       "                                           userAgent userId  \n",
       "0  Mozilla/5.0 (Windows NT 6.1; WOW64; rv:31.0) G...     30  "
      ]
     },
     "execution_count": 13,
     "metadata": {},
     "output_type": "execute_result"
    }
   ],
   "source": [
    "df.limit(1).toPandas()      # output better readable than df.take(1) and df.show(1): show structure \n",
    "                            # but also limit line numbers that are converted toPandas to save memory and speed up the output"
   ]
  },
  {
   "cell_type": "code",
   "execution_count": 14,
   "metadata": {
    "scrolled": false
   },
   "outputs": [
    {
     "name": "stdout",
     "output_type": "stream",
     "text": [
      "-RECORD 0---------------------------------------------------------------------------------\n",
      " artist        | Martha Tilston                                                           \n",
      " auth          | Logged In                                                                \n",
      " firstName     | Colin                                                                    \n",
      " gender        | M                                                                        \n",
      " itemInSession | 50                                                                       \n",
      " lastName      | Freeman                                                                  \n",
      " length        | 277.89016                                                                \n",
      " level         | paid                                                                     \n",
      " location      | Bakersfield, CA                                                          \n",
      " method        | PUT                                                                      \n",
      " page          | NextSong                                                                 \n",
      " registration  | 1538173362000                                                            \n",
      " sessionId     | 29                                                                       \n",
      " song          | Rockpools                                                                \n",
      " status        | 200                                                                      \n",
      " ts            | 1538352117000                                                            \n",
      " userAgent     | Mozilla/5.0 (Windows NT 6.1; WOW64; rv:31.0) Gecko/20100101 Firefox/31.0 \n",
      " userId        | 30                                                                       \n",
      "only showing top 1 row\n",
      "\n"
     ]
    }
   ],
   "source": [
    "df.show(n=1, truncate=False, vertical=True)     # vertical: to visually optimize output of datafram header \n",
    "                                                # no truncate: to show complete cell content of UserAgent"
   ]
  },
  {
   "cell_type": "markdown",
   "metadata": {},
   "source": [
    "### Counting emty cells (NaN's & isNull's) to check amount and location of missing data"
   ]
  },
  {
   "cell_type": "code",
   "execution_count": 15,
   "metadata": {},
   "outputs": [
    {
     "name": "stdout",
     "output_type": "stream",
     "text": [
      "CPU times: user 3.76 s, sys: 310 ms, total: 4.07 s\n",
      "Wall time: 14.2 s\n"
     ]
    },
    {
     "data": {
      "text/plain": [
       "artist           58392\n",
       "auth                 0\n",
       "firstName         8346\n",
       "gender            8346\n",
       "itemInSession        0\n",
       "lastName          8346\n",
       "length           58392\n",
       "level                0\n",
       "location          8346\n",
       "method               0\n",
       "page                 0\n",
       "registration      8346\n",
       "sessionId            0\n",
       "song             58392\n",
       "status               0\n",
       "ts                   0\n",
       "userAgent         8346\n",
       "userId               0\n",
       "dtype: int64"
      ]
     },
     "execution_count": 15,
     "metadata": {},
     "output_type": "execute_result"
    }
   ],
   "source": [
    "%%time\n",
    "df.toPandas().isnull().sum()"
   ]
  },
  {
   "cell_type": "markdown",
   "metadata": {},
   "source": [
    "-->  8 346 missing: \n",
    "+ names\n",
    "+ location\n",
    "+ registration\n",
    "\n",
    "        --> Possible visits without being logged in.\n",
    "\n",
    "--> 58 392 missing \n",
    "* artist\n",
    "* length\n",
    "* song\n",
    "\n",
    "        --> Possible user activity without playing a song. Could be due to technical issues or just other activities."
   ]
  },
  {
   "cell_type": "markdown",
   "metadata": {},
   "source": [
    "#### To give a visual showing the amount of NaNs in the dataframe, the package \"MissingNo\" ist used. If you do not have this package or it is not supported, just outcomment the next command box or set as \"raw\"."
   ]
  },
  {
   "cell_type": "raw",
   "metadata": {},
   "source": [
    "import missingno as msno\n",
    "msno.matrix(dfp, figsize=(30,3));\n",
    "# Confer article by Matt Grierson: https://towardsdatascience.com/a-beginners-guide-to-grabbing-and-analyzing-salary-data-in-python-e8c60eab186e"
   ]
  },
  {
   "cell_type": "raw",
   "metadata": {},
   "source": [
    "# from https://medium.com/analytics-vidhya/pandas-profiling-5ecd0b977ecd\n",
    "from pandas_profiling import ProfileReport\n",
    "profile = ProfileReport(dfp, minimal=True)  # Source: https://medium.com/analytics-vidhya/pandas-profiling-5ecd0b977ecd\n",
    "profile.to_file(\"output.html\")               # without setting \"minimal\" to \"True\": error message \"ValueError: Maximum allowed size exceeded\"\n",
    "\n",
    "'''\n",
    "Advanced settings:\n",
    "profile = df.profile_report(title='Pandas Profiling Report', plot={'histogram': {'bins': 8}})\n",
    "profile.to_file(\"output.html\")\n",
    "'''"
   ]
  },
  {
   "cell_type": "markdown",
   "metadata": {},
   "source": [
    "# Clean Dataset"
   ]
  },
  {
   "cell_type": "markdown",
   "metadata": {},
   "source": [
    "#### Lines in the df with emtpy `userId` are useless when it comes predicting which user is more likely to quit the service. \n",
    "#### --> therefore deleting lines with empty userId."
   ]
  },
  {
   "cell_type": "code",
   "execution_count": 16,
   "metadata": {
    "scrolled": false
   },
   "outputs": [
    {
     "data": {
      "text/plain": [
       "artist           50046\n",
       "auth                 0\n",
       "firstName            0\n",
       "gender               0\n",
       "itemInSession        0\n",
       "lastName             0\n",
       "length           50046\n",
       "level                0\n",
       "location             0\n",
       "method               0\n",
       "page                 0\n",
       "registration         0\n",
       "sessionId            0\n",
       "song             50046\n",
       "status               0\n",
       "ts                   0\n",
       "userAgent            0\n",
       "userId               0\n",
       "dtype: int64"
      ]
     },
     "execution_count": 16,
     "metadata": {},
     "output_type": "execute_result"
    }
   ],
   "source": [
    "df_clean = df.filter(df['userID']!='')\n",
    "empties_per_col = df_clean.toPandas().isnull().sum()\n",
    "empties_per_col"
   ]
  },
  {
   "cell_type": "code",
   "execution_count": 17,
   "metadata": {},
   "outputs": [
    {
     "data": {
      "text/plain": [
       "50046"
      ]
     },
     "execution_count": 17,
     "metadata": {},
     "output_type": "execute_result"
    }
   ],
   "source": [
    "empties_per_col[0]\n",
    "# Number of activities where no song was played:"
   ]
  },
  {
   "cell_type": "code",
   "execution_count": 18,
   "metadata": {},
   "outputs": [
    {
     "data": {
      "text/plain": [
       "17.992191376000342"
      ]
     },
     "execution_count": 18,
     "metadata": {},
     "output_type": "execute_result"
    }
   ],
   "source": [
    "empties_per_col[0] / df_clean.count() *100\n",
    "# percentage of activities where no song was played [%]:"
   ]
  },
  {
   "cell_type": "markdown",
   "metadata": {},
   "source": [
    "#### The above 18 % of all entries is a high proportion. Also it might be very interesting to analyse those activities where no song was played. For example could a user be more likely to quit if he/she had lots of activities without playing a song. E.g. due to technical issues or the like. \n",
    "#### --> Keep those rows of data."
   ]
  },
  {
   "cell_type": "code",
   "execution_count": 19,
   "metadata": {},
   "outputs": [
    {
     "data": {
      "text/plain": [
       "278154"
      ]
     },
     "execution_count": 19,
     "metadata": {},
     "output_type": "execute_result"
    }
   ],
   "source": [
    "df_clean.count()"
   ]
  },
  {
   "cell_type": "code",
   "execution_count": 20,
   "metadata": {},
   "outputs": [
    {
     "data": {
      "text/plain": [
       "8346"
      ]
     },
     "execution_count": 20,
     "metadata": {},
     "output_type": "execute_result"
    }
   ],
   "source": [
    "df.count()-df_clean.count()"
   ]
  },
  {
   "cell_type": "markdown",
   "metadata": {},
   "source": [
    "#### --> Same number as number of empty userId's, Therefore: In the original df, if the userId is empty, then the song-related cells are also empty. -->  Hypothesis: Makes sense: playing of songs not possible if not logged in (userId visible).\n"
   ]
  },
  {
   "cell_type": "markdown",
   "metadata": {},
   "source": [
    "### Checking the effect of cleaning by comparing distinct values of old and new dataframes"
   ]
  },
  {
   "cell_type": "code",
   "execution_count": 21,
   "metadata": {
    "scrolled": false
   },
   "outputs": [
    {
     "name": "stdout",
     "output_type": "stream",
     "text": [
      "+--------------------+\n",
      "|                page|\n",
      "+--------------------+\n",
      "|              Cancel|\n",
      "|    Submit Downgrade|\n",
      "|         Thumbs Down|\n",
      "|                Home|\n",
      "|           Downgrade|\n",
      "|         Roll Advert|\n",
      "|              Logout|\n",
      "|       Save Settings|\n",
      "|Cancellation Conf...|\n",
      "|               About|\n",
      "| Submit Registration|\n",
      "|            Settings|\n",
      "|               Login|\n",
      "|            Register|\n",
      "|     Add to Playlist|\n",
      "|          Add Friend|\n",
      "|            NextSong|\n",
      "|           Thumbs Up|\n",
      "|                Help|\n",
      "|             Upgrade|\n",
      "|               Error|\n",
      "|      Submit Upgrade|\n",
      "+--------------------+\n",
      "\n",
      "+--------------------+\n",
      "|                page|\n",
      "+--------------------+\n",
      "|              Cancel|\n",
      "|    Submit Downgrade|\n",
      "|         Thumbs Down|\n",
      "|                Home|\n",
      "|           Downgrade|\n",
      "|         Roll Advert|\n",
      "|              Logout|\n",
      "|       Save Settings|\n",
      "|Cancellation Conf...|\n",
      "|               About|\n",
      "|            Settings|\n",
      "|     Add to Playlist|\n",
      "|          Add Friend|\n",
      "|            NextSong|\n",
      "|           Thumbs Up|\n",
      "|                Help|\n",
      "|             Upgrade|\n",
      "|               Error|\n",
      "|      Submit Upgrade|\n",
      "+--------------------+\n",
      "\n"
     ]
    }
   ],
   "source": [
    "df      .select('page'). distinct().show(22)\n",
    "df_clean.select('page'). distinct().show(19)"
   ]
  },
  {
   "cell_type": "code",
   "execution_count": 22,
   "metadata": {},
   "outputs": [
    {
     "name": "stdout",
     "output_type": "stream",
     "text": [
      "22\n",
      "19\n"
     ]
    }
   ],
   "source": [
    "print(df      .select('page'). distinct().count())\n",
    "print(df_clean.select('page'). distinct().count())"
   ]
  },
  {
   "cell_type": "markdown",
   "metadata": {},
   "source": [
    "#### In df_clean, the activities with the following pages have been cleaned out:\n",
    "+ login\n",
    "+ submit registration\n",
    "+ register\n",
    "\n",
    "#### --> We still have that data in the original dataframe but we can not use it to predict churn as we do not know the userId for those activities."
   ]
  },
  {
   "cell_type": "code",
   "execution_count": 23,
   "metadata": {
    "scrolled": true
   },
   "outputs": [
    {
     "name": "stdout",
     "output_type": "stream",
     "text": [
      "+------+\n",
      "|method|\n",
      "+------+\n",
      "|   PUT|\n",
      "|   GET|\n",
      "+------+\n",
      "\n",
      "+------+\n",
      "|method|\n",
      "+------+\n",
      "|   PUT|\n",
      "|   GET|\n",
      "+------+\n",
      "\n"
     ]
    }
   ],
   "source": [
    "df       .select('method'). distinct().show()\n",
    "df_clean .select('method'). distinct().show() "
   ]
  },
  {
   "cell_type": "code",
   "execution_count": 24,
   "metadata": {
    "scrolled": false
   },
   "outputs": [
    {
     "name": "stdout",
     "output_type": "stream",
     "text": [
      "+----------+\n",
      "|      auth|\n",
      "+----------+\n",
      "|Logged Out|\n",
      "| Cancelled|\n",
      "|     Guest|\n",
      "| Logged In|\n",
      "+----------+\n",
      "\n",
      "+---------+\n",
      "|     auth|\n",
      "+---------+\n",
      "|Cancelled|\n",
      "|Logged In|\n",
      "+---------+\n",
      "\n"
     ]
    }
   ],
   "source": [
    "df      .select('auth'). distinct().show()\n",
    "df_clean.select('auth'). distinct().show()"
   ]
  },
  {
   "cell_type": "markdown",
   "metadata": {},
   "source": [
    "#### Rows with \"Logged Out\" and \"Guest\" were cleaned out. That is ok for our purpose to predict userIds that are likely to quit."
   ]
  },
  {
   "cell_type": "code",
   "execution_count": 25,
   "metadata": {},
   "outputs": [
    {
     "name": "stdout",
     "output_type": "stream",
     "text": [
      "+-----+\n",
      "|level|\n",
      "+-----+\n",
      "| free|\n",
      "| paid|\n",
      "+-----+\n",
      "\n",
      "+-----+\n",
      "|level|\n",
      "+-----+\n",
      "| free|\n",
      "| paid|\n",
      "+-----+\n",
      "\n"
     ]
    }
   ],
   "source": [
    "df       .select('level'). distinct().show()\n",
    "df_clean .select('level'). distinct().show()"
   ]
  },
  {
   "cell_type": "code",
   "execution_count": 26,
   "metadata": {
    "scrolled": false
   },
   "outputs": [
    {
     "name": "stdout",
     "output_type": "stream",
     "text": [
      "+------+\n",
      "|status|\n",
      "+------+\n",
      "|   307|\n",
      "|   404|\n",
      "|   200|\n",
      "+------+\n",
      "\n",
      "+------+\n",
      "|status|\n",
      "+------+\n",
      "|   307|\n",
      "|   404|\n",
      "|   200|\n",
      "+------+\n",
      "\n"
     ]
    }
   ],
   "source": [
    "df      .select('status'). distinct().show()\n",
    "df_clean.select('status'). distinct().show()"
   ]
  },
  {
   "cell_type": "markdown",
   "metadata": {},
   "source": [
    "# Exploratory Data Analysis\n",
    "\n",
    "When you're working with the full dataset, perform EDA by loading a small subset of the data and doing basic manipulations within Spark. In this workspace, you are already provided a small subset of data you can explore."
   ]
  },
  {
   "cell_type": "code",
   "execution_count": 27,
   "metadata": {
    "scrolled": false
   },
   "outputs": [
    {
     "data": {
      "text/plain": [
       "278154"
      ]
     },
     "execution_count": 27,
     "metadata": {},
     "output_type": "execute_result"
    }
   ],
   "source": [
    "df_clean.count()\n",
    "# number of rows:"
   ]
  },
  {
   "cell_type": "markdown",
   "metadata": {},
   "source": [
    "### Closer Look on the data"
   ]
  },
  {
   "cell_type": "code",
   "execution_count": 28,
   "metadata": {
    "scrolled": false
   },
   "outputs": [
    {
     "name": "stdout",
     "output_type": "stream",
     "text": [
      "226\n",
      "225\n"
     ]
    }
   ],
   "source": [
    "print(df      .select('userID').dropDuplicates().count())\n",
    "print(df_clean.select('userID').dropDuplicates().count())\n",
    "count_users = df_clean.select('userID').dropDuplicates().count()\n",
    "\n",
    "# Apparantly there was one duplicate row with a duplicate userId."
   ]
  },
  {
   "cell_type": "code",
   "execution_count": 29,
   "metadata": {},
   "outputs": [
    {
     "data": {
      "text/plain": [
       "104"
      ]
     },
     "execution_count": 29,
     "metadata": {},
     "output_type": "execute_result"
    }
   ],
   "source": [
    "# compare to extracurriclar lesson, ipynb number 6\n",
    "count_women = df_clean.filter(df_clean.gender == 'F') \\\n",
    "    .select('userId', 'gender')  \\\n",
    "    .dropDuplicates()            \\\n",
    "    .count()\n",
    "\n",
    "count_women"
   ]
  },
  {
   "cell_type": "code",
   "execution_count": 30,
   "metadata": {
    "scrolled": true
   },
   "outputs": [
    {
     "data": {
      "text/plain": [
       "46.22222222222222"
      ]
     },
     "execution_count": 30,
     "metadata": {},
     "output_type": "execute_result"
    }
   ],
   "source": [
    "count_women / count_users * 100\n",
    "# ratio of women in [%]"
   ]
  },
  {
   "cell_type": "markdown",
   "metadata": {},
   "source": [
    "### Visualising most played artist"
   ]
  },
  {
   "cell_type": "code",
   "execution_count": 31,
   "metadata": {},
   "outputs": [],
   "source": [
    "# For diagram showing Most played artists\n",
    "most_played_artists = df_clean.filter(df_clean.page == 'NextSong') \\\n",
    "    .select('Artist')            .groupBy('Artist') \\\n",
    "    .agg({'Artist':'count'})     .withColumnRenamed('count(Artist)', 'Artist_played') \\\n",
    "    .sort(desc('Artist_played'))"
   ]
  },
  {
   "cell_type": "code",
   "execution_count": 32,
   "metadata": {},
   "outputs": [],
   "source": [
    "most_played_artists = most_played_artists.withColumn(\"Artist_played\", most_played_artists[\"Artist_played\"].cast(IntegerType()))"
   ]
  },
  {
   "cell_type": "code",
   "execution_count": 33,
   "metadata": {
    "scrolled": true
   },
   "outputs": [
    {
     "name": "stdout",
     "output_type": "stream",
     "text": [
      "+--------------------+-------------+\n",
      "|              Artist|Artist_played|\n",
      "+--------------------+-------------+\n",
      "|       Kings Of Leon|         1841|\n",
      "|            Coldplay|         1813|\n",
      "|Florence + The Ma...|         1236|\n",
      "+--------------------+-------------+\n",
      "only showing top 3 rows\n",
      "\n"
     ]
    }
   ],
   "source": [
    "n=3       # n needs to be 3 or higher for code below to work\n",
    "most_played_artists.show(n)"
   ]
  },
  {
   "cell_type": "code",
   "execution_count": 34,
   "metadata": {},
   "outputs": [],
   "source": [
    "second_column = most_played_artists.select(most_played_artists.columns[1])"
   ]
  },
  {
   "cell_type": "code",
   "execution_count": 35,
   "metadata": {},
   "outputs": [
    {
     "data": {
      "text/plain": [
       "1236"
      ]
     },
     "execution_count": 35,
     "metadata": {},
     "output_type": "execute_result"
    }
   ],
   "source": [
    "# testing code for the for-loop below\n",
    "second_column.take(n)[2][0]"
   ]
  },
  {
   "cell_type": "code",
   "execution_count": 36,
   "metadata": {},
   "outputs": [
    {
     "data": {
      "text/plain": [
       "[Row(Artist='Kings Of Leon'),\n",
       " Row(Artist='Coldplay'),\n",
       " Row(Artist='Florence + The Machine')]"
      ]
     },
     "execution_count": 36,
     "metadata": {},
     "output_type": "execute_result"
    }
   ],
   "source": [
    "first_column = most_played_artists.select(col(\"Artist\")).take(n)\n",
    "first_column"
   ]
  },
  {
   "cell_type": "code",
   "execution_count": 37,
   "metadata": {},
   "outputs": [
    {
     "name": "stdout",
     "output_type": "stream",
     "text": [
      "[1841, 1813, 1236]\n"
     ]
    }
   ],
   "source": [
    "list_artist_played = []\n",
    "for i in range(n):\n",
    "    list_artist_played.append(second_column.take(n)[i][0])\n",
    "print(list_artist_played)"
   ]
  },
  {
   "cell_type": "code",
   "execution_count": 38,
   "metadata": {
    "scrolled": false
   },
   "outputs": [
    {
     "data": {
      "image/png": "[encoded data removed]",
      "text/plain": [
       "<matplotlib.figure.Figure at 0x7f9e264cf3c8>"
      ]
     },
     "metadata": {
      "needs_background": "light"
     },
     "output_type": "display_data"
    }
   ],
   "source": [
    "index = first_column\n",
    "dft = pd.DataFrame({'list_artist_played': list_artist_played}, index=index)\n",
    "dft.plot.bar();"
   ]
  },
  {
   "cell_type": "markdown",
   "metadata": {},
   "source": [
    "#### Analyzing time stamps"
   ]
  },
  {
   "cell_type": "code",
   "execution_count": 39,
   "metadata": {
    "scrolled": true
   },
   "outputs": [
    {
     "name": "stdout",
     "output_type": "stream",
     "text": [
      "+-------+---------------------+---------------------+\n",
      "|summary|ts                   |registration         |\n",
      "+-------+---------------------+---------------------+\n",
      "|count  |278154               |278154               |\n",
      "|mean   |1.5409589154318713E12|1.5353588340844272E12|\n",
      "|stddev |1.5068287123306298E9 |3.291321616327586E9  |\n",
      "|min    |1538352117000        |1521380675000        |\n",
      "|max    |1543799476000        |1543247354000        |\n",
      "+-------+---------------------+---------------------+\n",
      "\n"
     ]
    }
   ],
   "source": [
    "df_clean.select('ts', 'registration').describe().show(truncate=False)"
   ]
  },
  {
   "cell_type": "markdown",
   "metadata": {},
   "source": [
    "#### Converting the time stamps to readable dates and times"
   ]
  },
  {
   "cell_type": "code",
   "execution_count": 40,
   "metadata": {
    "scrolled": false
   },
   "outputs": [],
   "source": [
    "get_time = udf(lambda x: datetime.datetime.fromtimestamp(x / 1000).strftime('%Y-%m-%d %H:%M:%S'))\n",
    "df_clean = df_clean.withColumn('time',             get_time(df['ts']))\n",
    "df_clean = df_clean.withColumn('registrationTime', get_time(df['registration']))"
   ]
  },
  {
   "cell_type": "code",
   "execution_count": 41,
   "metadata": {
    "scrolled": false
   },
   "outputs": [
    {
     "name": "stdout",
     "output_type": "stream",
     "text": [
      "-RECORD 0--------------------------------\n",
      " artist           | Martha Tilston       \n",
      " auth             | Logged In            \n",
      " firstName        | Colin                \n",
      " gender           | M                    \n",
      " itemInSession    | 50                   \n",
      " lastName         | Freeman              \n",
      " length           | 277.89016            \n",
      " level            | paid                 \n",
      " location         | Bakersfield, CA      \n",
      " method           | PUT                  \n",
      " page             | NextSong             \n",
      " registration     | 1538173362000        \n",
      " sessionId        | 29                   \n",
      " song             | Rockpools            \n",
      " status           | 200                  \n",
      " ts               | 1538352117000        \n",
      " userAgent        | Mozilla/5.0 (Wind... \n",
      " userId           | 30                   \n",
      " time             | 2018-10-01 00:01:57  \n",
      " registrationTime | 2018-09-28 22:22:42  \n",
      "only showing top 1 row\n",
      "\n"
     ]
    }
   ],
   "source": [
    "df_clean.show(1, vertical = True)"
   ]
  },
  {
   "cell_type": "code",
   "execution_count": 42,
   "metadata": {
    "scrolled": false
   },
   "outputs": [
    {
     "name": "stdout",
     "output_type": "stream",
     "text": [
      "+-------+-----------------+\n",
      "|summary|           length|\n",
      "+-------+-----------------+\n",
      "|  count|           228108|\n",
      "|   mean|249.1171819778458|\n",
      "| stddev|99.23517921058361|\n",
      "|    min|          0.78322|\n",
      "|    max|       3024.66567|\n",
      "+-------+-----------------+\n",
      "\n"
     ]
    }
   ],
   "source": [
    "df_clean.select('length').describe().show()"
   ]
  },
  {
   "cell_type": "code",
   "execution_count": 43,
   "metadata": {},
   "outputs": [
    {
     "data": {
      "text/plain": [
       "50.4110945"
      ]
     },
     "execution_count": 43,
     "metadata": {},
     "output_type": "execute_result"
    }
   ],
   "source": [
    "length_max = df.agg({\"length\": \"max\"}).collect()[0][0]\n",
    "length_max / 60"
   ]
  },
  {
   "cell_type": "markdown",
   "metadata": {},
   "source": [
    "### Histograms of categorical columns"
   ]
  },
  {
   "cell_type": "code",
   "execution_count": 44,
   "metadata": {
    "scrolled": false
   },
   "outputs": [
    {
     "data": {
      "image/png": "[encoded data removed]",
      "text/plain": [
       "<matplotlib.figure.Figure at 0x7f9e3cffaf28>"
      ]
     },
     "metadata": {
      "needs_background": "light"
     },
     "output_type": "display_data"
    }
   ],
   "source": [
    "temp_df = df_clean.groupBy('auth').count().toPandas()\n",
    "sns.barplot(temp_df['auth'], temp_df['count'])\n",
    "plt.xlabel('auth')\n",
    "plt.ylabel('Count')\n",
    "plt.legend(loc=0)\n",
    "plt.show()"
   ]
  },
  {
   "cell_type": "code",
   "execution_count": 45,
   "metadata": {
    "scrolled": false
   },
   "outputs": [
    {
     "data": {
      "image/png": "[encoded data removed]",
      "text/plain": [
       "<matplotlib.figure.Figure at 0x7f9e23c142b0>"
      ]
     },
     "metadata": {
      "needs_background": "light"
     },
     "output_type": "display_data"
    }
   ],
   "source": [
    "temp_df = df_clean.groupBy('level').count().toPandas()\n",
    "sns.barplot(temp_df['level'], temp_df['count'])\n",
    "plt.xlabel('level')\n",
    "plt.ylabel('Count')\n",
    "plt.legend(loc=0)\n",
    "plt.show()"
   ]
  },
  {
   "cell_type": "code",
   "execution_count": 46,
   "metadata": {
    "scrolled": false
   },
   "outputs": [
    {
     "data": {
      "image/png": "[encoded data removed]",
      "text/plain": [
       "<matplotlib.figure.Figure at 0x7f9e24bec4a8>"
      ]
     },
     "metadata": {
      "needs_background": "light"
     },
     "output_type": "display_data"
    }
   ],
   "source": [
    "temp_df = df_clean.groupBy('method').count().toPandas()\n",
    "sns.barplot(temp_df['method'], temp_df['count'])\n",
    "plt.xlabel('method')\n",
    "plt.ylabel('Count')\n",
    "plt.legend(loc=0)\n",
    "plt.show()"
   ]
  },
  {
   "cell_type": "code",
   "execution_count": 47,
   "metadata": {},
   "outputs": [
    {
     "data": {
      "image/png": "[encoded data removed]",
      "text/plain": [
       "<matplotlib.figure.Figure at 0x7f9e265bb550>"
      ]
     },
     "metadata": {
      "needs_background": "light"
     },
     "output_type": "display_data"
    }
   ],
   "source": [
    "temp_df = df_clean.groupBy('page').count().toPandas()\n",
    "sns.barplot(temp_df['page'], temp_df['count'])\n",
    "plt.xlabel('page')\n",
    "plt.ylabel('Count')\n",
    "plt.legend(loc=0)\n",
    "plt.xticks(rotation=90)\n",
    "plt.show()"
   ]
  },
  {
   "cell_type": "code",
   "execution_count": 48,
   "metadata": {
    "scrolled": false
   },
   "outputs": [
    {
     "data": {
      "image/png": "[encoded data removed]",
      "text/plain": [
       "<matplotlib.figure.Figure at 0x7f9e2407ca58>"
      ]
     },
     "metadata": {
      "needs_background": "light"
     },
     "output_type": "display_data"
    }
   ],
   "source": [
    "temp_df = df_clean.groupBy('status').count().toPandas()\n",
    "sns.barplot(temp_df['status'], temp_df['count'])\n",
    "plt.xlabel('status')\n",
    "plt.ylabel('Count')\n",
    "plt.legend(loc=0)\n",
    "plt.show()"
   ]
  },
  {
   "cell_type": "markdown",
   "metadata": {},
   "source": [
    "#### Most diagrams lean on either one side or the other (skew). This means that they either need to be normalized for modelling or we apply different key performance parameters to evaluate the models to be employed."
   ]
  },
  {
   "cell_type": "markdown",
   "metadata": {},
   "source": [
    "# How to define Churn\n",
    "\n",
    "Once you've done some preliminary analysis, create a column `Churn` to use as the label for your model. I suggest using the `Cancellation Confirmation` events to define your churn, which happen for both paid and free users. As a bonus task, you can also look into the `Downgrade` events."
   ]
  },
  {
   "cell_type": "code",
   "execution_count": 49,
   "metadata": {
    "scrolled": false
   },
   "outputs": [
    {
     "name": "stdout",
     "output_type": "stream",
     "text": [
      "+--------------------+\n",
      "|                page|\n",
      "+--------------------+\n",
      "|              Cancel|\n",
      "|    Submit Downgrade|\n",
      "|         Thumbs Down|\n",
      "|                Home|\n",
      "|           Downgrade|\n",
      "|         Roll Advert|\n",
      "|              Logout|\n",
      "|       Save Settings|\n",
      "|Cancellation Conf...|\n",
      "|               About|\n",
      "|            Settings|\n",
      "|     Add to Playlist|\n",
      "|          Add Friend|\n",
      "|            NextSong|\n",
      "|           Thumbs Up|\n",
      "|                Help|\n",
      "|             Upgrade|\n",
      "|               Error|\n",
      "|      Submit Upgrade|\n",
      "+--------------------+\n",
      "\n"
     ]
    }
   ],
   "source": [
    "df_clean.select('page').distinct().show()"
   ]
  },
  {
   "cell_type": "code",
   "execution_count": 50,
   "metadata": {
    "scrolled": false
   },
   "outputs": [
    {
     "data": {
      "text/plain": [
       "52"
      ]
     },
     "execution_count": 50,
     "metadata": {},
     "output_type": "execute_result"
    }
   ],
   "source": [
    "df_clean.filter(df['page']=='Cancellation Confirmation').select('userID').dropDuplicates().count()"
   ]
  },
  {
   "cell_type": "code",
   "execution_count": 51,
   "metadata": {
    "scrolled": false
   },
   "outputs": [
    {
     "data": {
      "text/plain": [
       "52"
      ]
     },
     "execution_count": 51,
     "metadata": {},
     "output_type": "execute_result"
    }
   ],
   "source": [
    "df_clean.filter(df['page']=='Cancellation Confirmation').count()"
   ]
  },
  {
   "cell_type": "code",
   "execution_count": 52,
   "metadata": {
    "scrolled": false
   },
   "outputs": [
    {
     "name": "stdout",
     "output_type": "stream",
     "text": [
      "+---------+\n",
      "|     auth|\n",
      "+---------+\n",
      "|Cancelled|\n",
      "+---------+\n",
      "\n"
     ]
    }
   ],
   "source": [
    "df_clean.filter(df['page']=='Cancellation Confirmation').select('auth').dropDuplicates().show()"
   ]
  },
  {
   "cell_type": "markdown",
   "metadata": {},
   "source": [
    "####  Churn: a new column churn_user will be defined and value set as 1 if the page \"Cancellation Confirmation\" was visited."
   ]
  },
  {
   "cell_type": "markdown",
   "metadata": {},
   "source": [
    "### Defining Churn"
   ]
  },
  {
   "cell_type": "code",
   "execution_count": 53,
   "metadata": {},
   "outputs": [],
   "source": [
    "# get a list of all users who churned\n",
    "user_churned = df_clean.filter(df['page']=='Cancellation Confirmation').select('userID').dropDuplicates()\n",
    "user_churned_list = [row['userID'] for row in user_churned.collect()]\n",
    "\n",
    "# flag the users as churn who had an activity of Cancellation Confirmation (list above) \n",
    "is_churn_udf = udf(lambda x: 1 if x in user_churned_list else 0, IntegerType())\n",
    "df_clean = df_clean.withColumn('churn', is_churn_udf('userID'))"
   ]
  },
  {
   "cell_type": "code",
   "execution_count": 54,
   "metadata": {
    "scrolled": false
   },
   "outputs": [
    {
     "data": {
      "text/plain": [
       "233290"
      ]
     },
     "execution_count": 54,
     "metadata": {},
     "output_type": "execute_result"
    }
   ],
   "source": [
    "df_clean.filter(df_clean['churn']==0).count()"
   ]
  },
  {
   "cell_type": "code",
   "execution_count": 55,
   "metadata": {},
   "outputs": [
    {
     "data": {
      "text/plain": [
       "44864"
      ]
     },
     "execution_count": 55,
     "metadata": {},
     "output_type": "execute_result"
    }
   ],
   "source": [
    "df_clean.filter(df_clean['churn']==1).count()"
   ]
  },
  {
   "cell_type": "code",
   "execution_count": 56,
   "metadata": {
    "scrolled": false
   },
   "outputs": [
    {
     "data": {
      "text/plain": [
       "278154"
      ]
     },
     "execution_count": 56,
     "metadata": {},
     "output_type": "execute_result"
    }
   ],
   "source": [
    "df_clean.count()"
   ]
  },
  {
   "cell_type": "code",
   "execution_count": 57,
   "metadata": {},
   "outputs": [
    {
     "data": {
      "text/plain": [
       "173"
      ]
     },
     "execution_count": 57,
     "metadata": {},
     "output_type": "execute_result"
    }
   ],
   "source": [
    "non_churners = df_clean.filter(df_clean['churn']==0).dropDuplicates(['userId']).count()\n",
    "non_churners"
   ]
  },
  {
   "cell_type": "code",
   "execution_count": 58,
   "metadata": {},
   "outputs": [
    {
     "data": {
      "text/plain": [
       "52"
      ]
     },
     "execution_count": 58,
     "metadata": {},
     "output_type": "execute_result"
    }
   ],
   "source": [
    "churners = df_clean.filter(df_clean['churn']==1).dropDuplicates(['userId']).count()\n",
    "churners"
   ]
  },
  {
   "cell_type": "code",
   "execution_count": 59,
   "metadata": {},
   "outputs": [
    {
     "name": "stdout",
     "output_type": "stream",
     "text": [
      "23.1 % ... percentage of churners\n"
     ]
    }
   ],
   "source": [
    "ratio_of_churn_users = churners / (churners + non_churners)\n",
    "print('{0:.1f} % ... percentage of churners'.format(ratio_of_churn_users * 100))"
   ]
  },
  {
   "cell_type": "markdown",
   "metadata": {},
   "source": [
    "In addition, downgrading may be another interesting target variable to study, which is reflected by the `Submit Downgrade` event in the `page` column. We'll also include it here using the similar method above."
   ]
  },
  {
   "cell_type": "markdown",
   "metadata": {},
   "source": [
    "### Defining Downgrade"
   ]
  },
  {
   "cell_type": "code",
   "execution_count": 60,
   "metadata": {},
   "outputs": [],
   "source": [
    "user_downgrade = df_clean.filter(df['page']=='Submit Downgrade').select('userID').dropDuplicates()\n",
    "user_downgrade_list = [r['userID'] for r in user_downgrade.collect()]\n",
    "\n",
    "is_downgrade_udf = udf(lambda x: 1 if x in user_downgrade_list else 0, IntegerType())\n",
    "df_clean = df_clean.withColumn('downgrade', is_downgrade_udf('page'))"
   ]
  },
  {
   "cell_type": "code",
   "execution_count": 61,
   "metadata": {
    "scrolled": false
   },
   "outputs": [
    {
     "name": "stdout",
     "output_type": "stream",
     "text": [
      "+---------+-----+--------+------+-----+---------+\n",
      "|     auth|level|    page|userId|churn|downgrade|\n",
      "+---------+-----+--------+------+-----+---------+\n",
      "|Logged In| free|NextSong|100010|    0|        0|\n",
      "|Logged In| free|NextSong|200002|    0|        0|\n",
      "|Logged In| free|NextSong|   125|    1|        0|\n",
      "|Logged In| paid|    Home|   124|    0|        0|\n",
      "|Logged In| paid|    Home|    51|    1|        0|\n",
      "|Logged In| free|NextSong|     7|    0|        0|\n",
      "+---------+-----+--------+------+-----+---------+\n",
      "only showing top 6 rows\n",
      "\n"
     ]
    }
   ],
   "source": [
    "df_clean.dropDuplicates(['userID']).select('auth', 'level', 'page', 'userId', 'churn', 'downgrade').show(6)"
   ]
  },
  {
   "cell_type": "code",
   "execution_count": 62,
   "metadata": {
    "scrolled": false
   },
   "outputs": [
    {
     "data": {
      "text/plain": [
       "['artist',\n",
       " 'auth',\n",
       " 'firstName',\n",
       " 'gender',\n",
       " 'itemInSession',\n",
       " 'lastName',\n",
       " 'length',\n",
       " 'level',\n",
       " 'location',\n",
       " 'method',\n",
       " 'page',\n",
       " 'registration',\n",
       " 'sessionId',\n",
       " 'song',\n",
       " 'status',\n",
       " 'ts',\n",
       " 'userAgent',\n",
       " 'userId',\n",
       " 'time',\n",
       " 'registrationTime',\n",
       " 'churn',\n",
       " 'downgrade']"
      ]
     },
     "execution_count": 62,
     "metadata": {},
     "output_type": "execute_result"
    }
   ],
   "source": [
    "df_clean.columns"
   ]
  },
  {
   "cell_type": "markdown",
   "metadata": {},
   "source": [
    "#### --> the four new columns have been added at the end: `time`, `registrationTime`, `churn` and `downgrade`"
   ]
  },
  {
   "cell_type": "markdown",
   "metadata": {},
   "source": [
    "### Explore Data\n",
    "\n",
    "Once you've defined churn, perform some exploratory data analysis to observe the behavior for users who stayed vs users who churned. You can start by exploring aggregates on these two groups of users, observing how much of a specific action they experienced per a certain time unit or number of songs played."
   ]
  },
  {
   "cell_type": "code",
   "execution_count": 63,
   "metadata": {
    "scrolled": false
   },
   "outputs": [],
   "source": [
    "def plot_churn_influence(df, drop_label, x_label):\n",
    "    '''\n",
    "    Plotting histograms fo the columns of the dataframe with the hue of churn/no-churn \n",
    "    Input:  df:          the df from above\n",
    "            drop_label:  list of string(s), the name(s) of the column(s) to drop the duplicates\n",
    "            x_label:     string, name of column for the histgram and name of x-axis\n",
    "    Output: None\n",
    "    ''' \n",
    "    fig, ax = plt.subplots(figsize=(8, 6))\n",
    "\n",
    "    df_temp = df.dropDuplicates(drop_label).groupBy([x_label, 'churn']).count().toPandas()\n",
    "    sns.barplot(x=x_label, y='count', hue='churn', data=df_temp)\n",
    "    plt.tight_layout()\n",
    "    sns.set(font_scale=2)\n",
    "    plt.show()"
   ]
  },
  {
   "cell_type": "code",
   "execution_count": 64,
   "metadata": {
    "scrolled": false
   },
   "outputs": [
    {
     "data": {
      "image/png": "[encoded data removed]",
      "text/plain": [
       "<matplotlib.figure.Figure at 0x7f9e24529b70>"
      ]
     },
     "metadata": {
      "needs_background": "light"
     },
     "output_type": "display_data"
    }
   ],
   "source": [
    "plot_churn_influence(df_clean, ['userID'], 'gender')"
   ]
  },
  {
   "cell_type": "markdown",
   "metadata": {},
   "source": [
    "#### --> Women are less likely to churn."
   ]
  },
  {
   "cell_type": "code",
   "execution_count": 65,
   "metadata": {
    "scrolled": false
   },
   "outputs": [
    {
     "data": {
      "image/png": "[encoded data removed]",
      "text/plain": [
       "<matplotlib.figure.Figure at 0x7f9e250f2668>"
      ]
     },
     "metadata": {},
     "output_type": "display_data"
    }
   ],
   "source": [
    "plot_churn_influence(df_clean, ['userID'], 'level')"
   ]
  },
  {
   "cell_type": "markdown",
   "metadata": {},
   "source": [
    "#### ---> it is hard to make a conclusion here as we would have to normalize those numbers (i.e. account for the different numbers of non-churners and churners. A lot fewer users are churners. "
   ]
  },
  {
   "cell_type": "code",
   "execution_count": 66,
   "metadata": {
    "scrolled": true
   },
   "outputs": [
    {
     "name": "stdout",
     "output_type": "stream",
     "text": [
      "+------+\n",
      "|status|\n",
      "+------+\n",
      "|   200|\n",
      "|   307|\n",
      "|   404|\n",
      "+------+\n",
      "\n"
     ]
    }
   ],
   "source": [
    "df_clean.select('status').dropDuplicates().sort('status').show()"
   ]
  },
  {
   "cell_type": "markdown",
   "metadata": {},
   "source": [
    "#### Explanantion of code: \"200\": OK  ||  \"307\":  Temporary Redirect  || \"404\":  Not Found"
   ]
  },
  {
   "cell_type": "code",
   "execution_count": 67,
   "metadata": {
    "scrolled": false
   },
   "outputs": [
    {
     "data": {
      "text/html": [
       "<div>\n",
       "<style scoped>\n",
       "    .dataframe tbody tr th:only-of-type {\n",
       "        vertical-align: middle;\n",
       "    }\n",
       "\n",
       "    .dataframe tbody tr th {\n",
       "        vertical-align: top;\n",
       "    }\n",
       "\n",
       "    .dataframe thead th {\n",
       "        text-align: right;\n",
       "    }\n",
       "</style>\n",
       "<table border=\"1\" class=\"dataframe\">\n",
       "  <thead>\n",
       "    <tr style=\"text-align: right;\">\n",
       "      <th></th>\n",
       "      <th>churn</th>\n",
       "      <th>status</th>\n",
       "      <th>count</th>\n",
       "      <th>dist_by_churn</th>\n",
       "    </tr>\n",
       "  </thead>\n",
       "  <tbody>\n",
       "    <tr>\n",
       "      <th>4</th>\n",
       "      <td>0</td>\n",
       "      <td>200</td>\n",
       "      <td>213581</td>\n",
       "      <td>91.551717</td>\n",
       "    </tr>\n",
       "    <tr>\n",
       "      <th>5</th>\n",
       "      <td>0</td>\n",
       "      <td>307</td>\n",
       "      <td>19489</td>\n",
       "      <td>8.353980</td>\n",
       "    </tr>\n",
       "    <tr>\n",
       "      <th>2</th>\n",
       "      <td>0</td>\n",
       "      <td>404</td>\n",
       "      <td>220</td>\n",
       "      <td>0.094303</td>\n",
       "    </tr>\n",
       "    <tr>\n",
       "      <th>0</th>\n",
       "      <td>1</td>\n",
       "      <td>200</td>\n",
       "      <td>41137</td>\n",
       "      <td>91.692671</td>\n",
       "    </tr>\n",
       "    <tr>\n",
       "      <th>3</th>\n",
       "      <td>1</td>\n",
       "      <td>307</td>\n",
       "      <td>3695</td>\n",
       "      <td>8.236002</td>\n",
       "    </tr>\n",
       "    <tr>\n",
       "      <th>1</th>\n",
       "      <td>1</td>\n",
       "      <td>404</td>\n",
       "      <td>32</td>\n",
       "      <td>0.071327</td>\n",
       "    </tr>\n",
       "  </tbody>\n",
       "</table>\n",
       "</div>"
      ],
      "text/plain": [
       "   churn  status   count  dist_by_churn\n",
       "4      0     200  213581      91.551717\n",
       "5      0     307   19489       8.353980\n",
       "2      0     404     220       0.094303\n",
       "0      1     200   41137      91.692671\n",
       "3      1     307    3695       8.236002\n",
       "1      1     404      32       0.071327"
      ]
     },
     "execution_count": 67,
     "metadata": {},
     "output_type": "execute_result"
    }
   ],
   "source": [
    "df_status = df_clean.groupBy(['churn','status']).count().toPandas()\n",
    "tot_churn_status = df_status[df_status['churn'] == 1]['count'].sum()\n",
    "tot_nonchurn_status = df_status[df_status['churn'] == 0]['count'].sum()\n",
    "df_status['dist_by_churn'] = df_status.apply(lambda x: x['count'] / tot_churn_status * 100 \n",
    "                                             if x['churn'] == 1 else x['count'] / tot_nonchurn_status * 100, axis=1)\n",
    "\n",
    "df_status.sort_values(['churn', 'status'], axis=0)"
   ]
  },
  {
   "cell_type": "markdown",
   "metadata": {},
   "source": [
    "#### Very interesting: I would have assumed that the error 404 comes up a lot more for the users who churned, because they might be not happy with the technical performance of the service. But that seems to be not true in this small dataset. Therefore and because there also seems to be not much difference regarding 307 and 200 the \"status\" might not be the best feature for machine learning."
   ]
  },
  {
   "cell_type": "markdown",
   "metadata": {},
   "source": [
    "### What users mostly do on Sparkify (what pages are visited)"
   ]
  },
  {
   "cell_type": "code",
   "execution_count": 68,
   "metadata": {
    "scrolled": false
   },
   "outputs": [
    {
     "data": {
      "image/png": "[encoded data removed]",
      "text/plain": [
       "<matplotlib.figure.Figure at 0x7f9e2f191080>"
      ]
     },
     "metadata": {},
     "output_type": "display_data"
    }
   ],
   "source": [
    "fig, ax = plt.subplots(figsize = (15, 8))\n",
    "df_temp = df_clean.groupBy(['churn','page']).count().toPandas()\n",
    "sns.barplot(x='page', y='count', hue='churn', data=df_temp, ax=ax)\n",
    "ax.set_ylabel('Count')\n",
    "ax.set_xlabel('page')\n",
    "ax.tick_params(axis='x', rotation = -90)\n",
    "ax.legend(loc = 0)\n",
    "plt.tight_layout()\n",
    "sns.set(font_scale=1)\n",
    "plt.show()"
   ]
  },
  {
   "cell_type": "markdown",
   "metadata": {},
   "source": [
    "#### The graph above shows that NextSong is the main activity on Sparkify, as expected. But as there are a lot more non-churners than churners, it does not tell us much about who is more likely to churn. For that we would have to normalize the data."
   ]
  },
  {
   "cell_type": "markdown",
   "metadata": {},
   "source": [
    "### Exploring location"
   ]
  },
  {
   "cell_type": "code",
   "execution_count": 69,
   "metadata": {
    "scrolled": false
   },
   "outputs": [
    {
     "data": {
      "text/plain": [
       "114"
      ]
     },
     "execution_count": 69,
     "metadata": {},
     "output_type": "execute_result"
    }
   ],
   "source": [
    "df_clean.select('location').distinct().count()"
   ]
  },
  {
   "cell_type": "markdown",
   "metadata": {},
   "source": [
    "#### --> With 114 locations but only 52 churn-users, the location is not the best feature. But, once the dataset is huge, there will be a lot more users and this data will possibly become more usefull."
   ]
  },
  {
   "cell_type": "code",
   "execution_count": 70,
   "metadata": {
    "scrolled": true
   },
   "outputs": [
    {
     "name": "stdout",
     "output_type": "stream",
     "text": [
      "+---------------------------+\n",
      "|location                   |\n",
      "+---------------------------+\n",
      "|Albany, OR                 |\n",
      "|Albany-Schenectady-Troy, NY|\n",
      "|Alexandria, LA             |\n",
      "+---------------------------+\n",
      "only showing top 3 rows\n",
      "\n"
     ]
    }
   ],
   "source": [
    "df_clean.select('location').distinct().sort('location').show(3, truncate=False)"
   ]
  },
  {
   "cell_type": "markdown",
   "metadata": {},
   "source": [
    "### Exploring \"US states\""
   ]
  },
  {
   "cell_type": "code",
   "execution_count": 71,
   "metadata": {
    "scrolled": false
   },
   "outputs": [],
   "source": [
    "# Splitting the State information from the location\n",
    "get_state_udf = udf(lambda x: x.split(',')[1].strip().split('-')[0])\n",
    "df_clean = df_clean.withColumn('state', get_state_udf('location'))"
   ]
  },
  {
   "cell_type": "code",
   "execution_count": 72,
   "metadata": {
    "scrolled": true
   },
   "outputs": [
    {
     "name": "stdout",
     "output_type": "stream",
     "text": [
      "+-----+\n",
      "|state|\n",
      "+-----+\n",
      "|   AZ|\n",
      "|   SC|\n",
      "|   LA|\n",
      "+-----+\n",
      "only showing top 3 rows\n",
      "\n"
     ]
    }
   ],
   "source": [
    "df_clean.select('state').distinct().show(3)"
   ]
  },
  {
   "cell_type": "code",
   "execution_count": 73,
   "metadata": {
    "scrolled": true
   },
   "outputs": [
    {
     "data": {
      "text/plain": [
       "41"
      ]
     },
     "execution_count": 73,
     "metadata": {},
     "output_type": "execute_result"
    }
   ],
   "source": [
    "df_clean.select('state').distinct().count()"
   ]
  },
  {
   "cell_type": "markdown",
   "metadata": {},
   "source": [
    "#### --> With 41 states but only 52 churn-users, the location is not the best feature either. But, once the dataset is huge, there will be a lot more users and this data will possibly become more usefull."
   ]
  },
  {
   "cell_type": "markdown",
   "metadata": {},
   "source": [
    "### Exploring \"userAgent\" by extracting the platform to analyse which device is used"
   ]
  },
  {
   "cell_type": "code",
   "execution_count": 74,
   "metadata": {
    "scrolled": false
   },
   "outputs": [
    {
     "data": {
      "text/plain": [
       "56"
      ]
     },
     "execution_count": 74,
     "metadata": {},
     "output_type": "execute_result"
    }
   ],
   "source": [
    "df_clean.select('userAgent').distinct().count()"
   ]
  },
  {
   "cell_type": "code",
   "execution_count": 75,
   "metadata": {
    "scrolled": false
   },
   "outputs": [
    {
     "name": "stdout",
     "output_type": "stream",
     "text": [
      "+--------------------------------------------------------------------------------------------------------------------------+\n",
      "|userAgent                                                                                                                 |\n",
      "+--------------------------------------------------------------------------------------------------------------------------+\n",
      "|\"Mozilla/5.0 (Macintosh; Intel Mac OS X 10_8_5) AppleWebKit/537.36 (KHTML, like Gecko) Chrome/36.0.1985.143 Safari/537.36\"|\n",
      "|\"Mozilla/5.0 (Windows NT 5.1) AppleWebKit/537.36 (KHTML, like Gecko) Chrome/36.0.1985.143 Safari/537.36\"                  |\n",
      "|Mozilla/5.0 (X11; Ubuntu; Linux i686; rv:31.0) Gecko/20100101 Firefox/31.0                                                |\n",
      "|\"Mozilla/5.0 (Macintosh; Intel Mac OS X 10_9_4) AppleWebKit/537.36 (KHTML, like Gecko) Chrome/36.0.1985.125 Safari/537.36\"|\n",
      "+--------------------------------------------------------------------------------------------------------------------------+\n",
      "only showing top 4 rows\n",
      "\n"
     ]
    }
   ],
   "source": [
    "df_clean.select('userAgent').distinct().show(4, False)"
   ]
  },
  {
   "cell_type": "code",
   "execution_count": 76,
   "metadata": {
    "scrolled": false
   },
   "outputs": [
    {
     "data": {
      "text/plain": [
       "'\"Mozilla/5.0 (Macintosh; Intel Mac OS X 10_8_5) AppleWebKit/537.36 (KHTML, like Gecko) Chrome/36.0.1985.143 Safari/537.36\"'"
      ]
     },
     "execution_count": 76,
     "metadata": {},
     "output_type": "execute_result"
    }
   ],
   "source": [
    "trial_str = df_clean.select('userAgent').distinct().collect()[0][0]\n",
    "trial_str"
   ]
  },
  {
   "cell_type": "code",
   "execution_count": 77,
   "metadata": {
    "scrolled": false
   },
   "outputs": [
    {
     "data": {
      "text/plain": [
       "'Macintosh'"
      ]
     },
     "execution_count": 77,
     "metadata": {},
     "output_type": "execute_result"
    }
   ],
   "source": [
    "pattern = r'\\(([^\\(\\)]*)\\)'\n",
    "re.findall(pattern, trial_str)[0].split(';')[0]"
   ]
  },
  {
   "cell_type": "code",
   "execution_count": 78,
   "metadata": {
    "scrolled": false
   },
   "outputs": [],
   "source": [
    "# Extract the platform from the userAgent\n",
    "get_os_udf = udf(lambda x: re.findall(pattern, x)[0].split(';')[0])\n",
    "df_clean = df_clean.withColumn('platform', get_os_udf('userAgent'))"
   ]
  },
  {
   "cell_type": "code",
   "execution_count": 79,
   "metadata": {
    "scrolled": false
   },
   "outputs": [
    {
     "data": {
      "text/plain": [
       "10"
      ]
     },
     "execution_count": 79,
     "metadata": {},
     "output_type": "execute_result"
    }
   ],
   "source": [
    "df_clean.select('platform').distinct().count()"
   ]
  },
  {
   "cell_type": "code",
   "execution_count": 80,
   "metadata": {
    "scrolled": true
   },
   "outputs": [
    {
     "name": "stdout",
     "output_type": "stream",
     "text": [
      "+--------------+\n",
      "|      platform|\n",
      "+--------------+\n",
      "|          iPad|\n",
      "|           X11|\n",
      "|Windows NT 6.3|\n",
      "|        iPhone|\n",
      "|Windows NT 6.2|\n",
      "|     Macintosh|\n",
      "|Windows NT 5.1|\n",
      "|    compatible|\n",
      "|Windows NT 6.0|\n",
      "|Windows NT 6.1|\n",
      "+--------------+\n",
      "\n"
     ]
    }
   ],
   "source": [
    "df_clean.select('platform').distinct().show()"
   ]
  },
  {
   "cell_type": "code",
   "execution_count": 81,
   "metadata": {
    "scrolled": false
   },
   "outputs": [],
   "source": [
    "def vis_dist_percentage(df, col):\n",
    "    '''\n",
    "    Function to visualize the distribution patterns in percentage based on two user groups in the dataset\n",
    "     \n",
    "    Args:\n",
    "        df: a spark Dataframe\n",
    "        col: a string, the name of the column to visualize\n",
    "        \n",
    "    Returns:\n",
    "        None\n",
    "    '''\n",
    "    \n",
    "    df_temp = df.groupBy(['churn',col]).count().toPandas()\n",
    "    tot_churn_events = df_temp[df_temp['churn'] == 1]['count'].sum()\n",
    "    tot_nonchurn_events = df_temp[df_temp['churn'] == 0]['count'].sum()\n",
    "    df_temp['percentage_by_churn'] = df_temp.apply(lambda x: x['count'] / tot_churn_events * 100 \n",
    "                                                   if x['churn'] == 1 else x['count'] / tot_nonchurn_events * 100, axis=1)\n",
    "    df_temp.sort_values(['churn', col], axis=0, inplace=True)\n",
    "    fig, ax = plt.subplots(figsize = (15, 8))\n",
    "    \n",
    "    sns.barplot(x=col, y='percentage_by_churn', hue='churn', data=df_temp, ax=ax)\n",
    "    ax.set_ylabel('Percentage', fontsize = 16)\n",
    "    ax.set_xlabel(col, fontsize = 16)\n",
    "    ax.tick_params(axis='y', labelsize = 15)\n",
    "    ax.tick_params(axis='x', labelsize = 15, rotation = -90)\n",
    "    ax.legend(loc = 0, fontsize = 16)\n",
    "    plt.tight_layout()\n",
    "    plt.show()"
   ]
  },
  {
   "cell_type": "code",
   "execution_count": 82,
   "metadata": {},
   "outputs": [
    {
     "data": {
      "image/png": "[encoded data removed]",
      "text/plain": [
       "<matplotlib.figure.Figure at 0x7f9e2795b2e8>"
      ]
     },
     "metadata": {},
     "output_type": "display_data"
    }
   ],
   "source": [
    "vis_dist_percentage(df_clean, 'platform')"
   ]
  },
  {
   "cell_type": "markdown",
   "metadata": {},
   "source": [
    "#### This is interesting: the likelihood to churn is higher if a user is using a stationary device. If the users has a more expensive handheld device, like an iPad or an iPhone, there are less churns. \n",
    "\n",
    "--> Hypothesis: maybe iPhone and iPad users are less price sensitive and they use the service more flexibly which can help staying a customer."
   ]
  },
  {
   "cell_type": "markdown",
   "metadata": {},
   "source": [
    "## Exploring the timing of activity\n",
    "For churners and non-churners"
   ]
  },
  {
   "cell_type": "code",
   "execution_count": 83,
   "metadata": {
    "scrolled": false
   },
   "outputs": [
    {
     "name": "stdout",
     "output_type": "stream",
     "text": [
      "min_time: 2018-10-01 00:01:57, max_time: 2018-12-03 01:11:16.\n"
     ]
    }
   ],
   "source": [
    "# Check the range of the time of the events\n",
    "max_time = df_clean.groupBy().max('ts').collect()[0][0]\n",
    "min_time = df_clean.groupBy().min('ts').collect()[0][0]\n",
    "print('min_time: {}, max_time: {}.'\n",
    "      .format(datetime.datetime.fromtimestamp(min_time / 1000).strftime('%Y-%m-%d %H:%M:%S'),\n",
    "              datetime.datetime.fromtimestamp(max_time / 1000).strftime('%Y-%m-%d %H:%M:%S')))"
   ]
  },
  {
   "cell_type": "markdown",
   "metadata": {},
   "source": [
    "#### As there are only about two full months (about 8 weeks) of only one year (2018) and only 52 churn users in this small dataset, we will not analyse the effect of years, months and also weeks on churning in the EDA section. It seems just not enough data. We will however look at the time of the day and prepare the remaining time columns so that they can be used in the modelling. Especially with bigger datasets this could be beneficial."
   ]
  },
  {
   "cell_type": "code",
   "execution_count": 84,
   "metadata": {
    "scrolled": false
   },
   "outputs": [],
   "source": [
    "get_year    = udf(lambda x: datetime.datetime.fromtimestamp(x / 1000).year,          IntegerType())\n",
    "get_month   = udf(lambda x: datetime.datetime.fromtimestamp(x / 1000).month,        IntegerType())\n",
    "get_weekday = udf(lambda x: datetime.datetime.fromtimestamp(x / 1000).isoweekday(), IntegerType())\n",
    "get_hour    = udf(lambda x: datetime.datetime.fromtimestamp(x / 1000).hour,         IntegerType())\n",
    "\n",
    "df_clean = df_clean.withColumn('year',    get_year('ts'))\n",
    "df_clean = df_clean.withColumn('month',   get_month('ts'))\n",
    "df_clean = df_clean.withColumn('weekday', get_weekday('ts'))\n",
    "df_clean = df_clean.withColumn('hour',    get_hour('ts'))"
   ]
  },
  {
   "cell_type": "code",
   "execution_count": 85,
   "metadata": {
    "scrolled": false
   },
   "outputs": [
    {
     "data": {
      "image/png": "[encoded data removed]",
      "text/plain": [
       "<matplotlib.figure.Figure at 0x7f9e27a575f8>"
      ]
     },
     "metadata": {},
     "output_type": "display_data"
    }
   ],
   "source": [
    "vis_dist_percentage(df_clean, 'hour')"
   ]
  },
  {
   "cell_type": "markdown",
   "metadata": {},
   "source": [
    "#### --> Churners are more active in the afternoon.\n",
    "#### --> Non-churners are more active in the morning."
   ]
  },
  {
   "cell_type": "markdown",
   "metadata": {},
   "source": [
    "#   \n",
    "\n",
    "\n",
    "## As for exploring quantity of activities, this is difficult. E.g. if we look at the \"average total time of listening\" to music then we would have to take into account that users who quit can not spend more time on listening. So the total times of churners will likely be smaller than the total time of non-churners. For the further reasons below we will nevertheless have those properties as features later.\n",
    "Also, in the recorded time period, there will be churners who joined before the start date of the data set. And we do not have the activity data from before that time period before the data set starts. That makes any comparison difficult, especially because it is only two months.\n",
    "However, with a bigger dataset that covers a longer time period, this effect will get less important and the feature more interessting to analyze. I would then analyse the following: \"average playtime of songs per day\" for churners and non-churners: also with a focus on the periods right after registration and for the periods shortly before the churners cancel."
   ]
  },
  {
   "cell_type": "markdown",
   "metadata": {},
   "source": [
    "# Feature Engineering\n",
    "Once you've familiarized yourself with the data, build out the features you find promising to train your model on. To work with the full dataset, you can follow the following steps.\n",
    "\n",
    "- Write a script to extract the necessary features from the smaller subset of data\n",
    "- Ensure that your script is scalable, using the best practices discussed in Lesson 3\n",
    "- Try your script on the full data set, debugging your script if necessary\n",
    "\n",
    "--> If you are **working in the classroom workspace, you can just extract features based on the small subset** of data contained here. Be sure to transfer over this work to the larger dataset when you work on your Spark cluster."
   ]
  },
  {
   "cell_type": "markdown",
   "metadata": {},
   "source": [
    "## + Categorical\n",
    "\n",
    "1) userID\n",
    "\n",
    "2) gender\n",
    "\n",
    "3) churn\n",
    "\n",
    "4) level\n",
    "\n",
    "5) platform\n",
    "\n",
    "6) state\n",
    "\n",
    "\n",
    "## + Numerical\n",
    "\n",
    "1) numEvents\n",
    "\n",
    "2) regDays\n",
    "\n",
    "3) ratioAddFriend\n",
    "\n",
    "4) ratioAddtoPlaylist\n",
    "\n",
    "5) ratioNextSong\n",
    "\n",
    "6) ratioRollAdvert\n",
    "\n",
    "7) ratioThumbsDown\n",
    "\n",
    "8) ratioThumbsUp\n",
    "\n",
    "9) ratioFirstHalf\n",
    "\n",
    "10) ratioArtists\n",
    "\n",
    "11) numPerSession\n",
    "\n",
    "12) timePerEvent\n"
   ]
  },
  {
   "cell_type": "markdown",
   "metadata": {},
   "source": [
    "### Categorical Feature 1 - 3: userId, Gender & Churn"
   ]
  },
  {
   "cell_type": "code",
   "execution_count": 86,
   "metadata": {
    "scrolled": false
   },
   "outputs": [],
   "source": [
    "# Create dataframe with userID, gender and churn columns\n",
    "data = df_clean.dropDuplicates(['userID']).select('userID', 'gender', 'churn')"
   ]
  },
  {
   "cell_type": "code",
   "execution_count": 87,
   "metadata": {},
   "outputs": [
    {
     "data": {
      "text/plain": [
       "225"
      ]
     },
     "execution_count": 87,
     "metadata": {},
     "output_type": "execute_result"
    }
   ],
   "source": [
    "data.count()"
   ]
  },
  {
   "cell_type": "code",
   "execution_count": 88,
   "metadata": {},
   "outputs": [
    {
     "data": {
      "text/plain": [
       "173"
      ]
     },
     "execution_count": 88,
     "metadata": {},
     "output_type": "execute_result"
    }
   ],
   "source": [
    "data.filter(data['churn']==0).dropDuplicates(['userId']).count()"
   ]
  },
  {
   "cell_type": "code",
   "execution_count": 89,
   "metadata": {
    "scrolled": true
   },
   "outputs": [
    {
     "data": {
      "text/plain": [
       "52"
      ]
     },
     "execution_count": 89,
     "metadata": {},
     "output_type": "execute_result"
    }
   ],
   "source": [
    "data.filter(data['churn']==1).dropDuplicates(['userId']).count()"
   ]
  },
  {
   "cell_type": "markdown",
   "metadata": {},
   "source": [
    "### Categorical Features 4 - 6: Level, Plattform and State\n",
    "As mentioned earlier, `plattform` and `state` are used as a preparation for bigger datasets because 52 churners is not many if there are 41 states and only about a dozen platforms. Meaning the number of churners seems small in order to get strong statistics. For illustration: if the users would be evenly distributed among the states, then there are not even 2 churners per state. Just one more or less churner in a state would yield a ver big relative change of churners per state but would only be a small change nevertheless."
   ]
  },
  {
   "cell_type": "code",
   "execution_count": 90,
   "metadata": {
    "scrolled": false
   },
   "outputs": [],
   "source": [
    "# Adding level, platform, and location (state) of the last activity of the user\n",
    "df_clean = df_clean.orderBy('userID', 'ts', ascending = False)\n",
    "df_cat = df_clean.dropDuplicates(['userID']).select('userID', 'level', 'platform', 'state')\n",
    "data = data.join(df_cat, 'userID')"
   ]
  },
  {
   "cell_type": "markdown",
   "metadata": {},
   "source": [
    "## + Numerical\n",
    "\n",
    "1) numEvents\n",
    "\n",
    "2) regDays\n",
    "\n",
    "3) ratioAddFriend\n",
    "\n",
    "4) ratioAddtoPlaylist\n",
    "\n",
    "5) ratioNextSong\n",
    "\n",
    "6) ratioRollAdvert\n",
    "\n",
    "7) ratioThumbsDown\n",
    "\n",
    "8) ratioThumbsUp\n",
    "\n",
    "9) ratioFirstHalf\n",
    "\n",
    "10) ratioArtists\n",
    "\n",
    "11) numPerSession\n",
    "\n",
    "12) timePerEvent"
   ]
  },
  {
   "cell_type": "markdown",
   "metadata": {},
   "source": [
    "#### Numerical feature 1: `numEvents`number of events per user "
   ]
  },
  {
   "cell_type": "code",
   "execution_count": 91,
   "metadata": {
    "scrolled": true
   },
   "outputs": [
    {
     "name": "stdout",
     "output_type": "stream",
     "text": [
      "+------+---------+\n",
      "|userID|numEvents|\n",
      "+------+---------+\n",
      "|200002|      474|\n",
      "|100010|      381|\n",
      "|   125|       11|\n",
      "|     7|      201|\n",
      "|    51|     2464|\n",
      "+------+---------+\n",
      "only showing top 5 rows\n",
      "\n"
     ]
    }
   ],
   "source": [
    "df_events = df_clean.groupBy('userID').count().withColumnRenamed('count', 'numEvents')\n",
    "df_events.show(5)"
   ]
  },
  {
   "cell_type": "markdown",
   "metadata": {},
   "source": [
    "#### Numerical feature 2: `regDays` \"number of days between registration and last activity of each user\"\n",
    "As mentioned above though, this features heavily depends on the fact if the two months time period covered by the small dataset is long or short in comparision to the time of membership of churners. "
   ]
  },
  {
   "cell_type": "code",
   "execution_count": 92,
   "metadata": {
    "scrolled": true
   },
   "outputs": [
    {
     "name": "stdout",
     "output_type": "stream",
     "text": [
      "+------+------------------+-----------------+\n",
      "|userID|           regDays|round(regDays, 1)|\n",
      "+------+------------------+-----------------+\n",
      "|100010| 55.64365740740741|             55.6|\n",
      "|200002| 70.07462962962963|             70.1|\n",
      "|   125| 71.31688657407408|             71.3|\n",
      "|   124|131.55591435185184|            131.6|\n",
      "|    51|19.455844907407407|             19.5|\n",
      "+------+------------------+-----------------+\n",
      "only showing top 5 rows\n",
      "\n"
     ]
    }
   ],
   "source": [
    "df_reg = df_clean.select('userID', 'registration').dropDuplicates()\n",
    "last_ts = df_clean.select('userID', 'ts').groupBy('userID').max()\n",
    "\n",
    "df_reg = df_reg.join(last_ts, 'userID')\n",
    "df_reg = df_reg.withColumn('regDays', (df_reg['max(ts)'] - df_reg['registration']) / (1000 * 60 * 60 * 24))\n",
    "df_reg = df_reg.drop('registration', 'max(ts)')\n",
    "\n",
    "df_reg.select(\"*\",round(\"regDays\", 1)).show(5)"
   ]
  },
  {
   "cell_type": "markdown",
   "metadata": {},
   "source": [
    "#### Calculating total time per user"
   ]
  },
  {
   "cell_type": "code",
   "execution_count": 93,
   "metadata": {
    "scrolled": true
   },
   "outputs": [
    {
     "name": "stdout",
     "output_type": "stream",
     "text": [
      "+------+-----------------+-------------------+\n",
      "|userID|        totalTime|round(totalTime, 0)|\n",
      "+------+-----------------+-------------------+\n",
      "|200002|94008.87593999998|            94009.0|\n",
      "|100010|66940.89735000003|            66941.0|\n",
      "|   125|        2089.1131|             2089.0|\n",
      "|     7|       38034.0871|            38034.0|\n",
      "|    51|523275.8428000004|           523276.0|\n",
      "+------+-----------------+-------------------+\n",
      "only showing top 5 rows\n",
      "\n"
     ]
    }
   ],
   "source": [
    "df_time = df_clean.groupBy(['userID']).sum('length').withColumnRenamed('sum(length)', 'totalTime')\n",
    "df_time.select(\"*\",round(\"totalTime\")).show(5)"
   ]
  },
  {
   "cell_type": "markdown",
   "metadata": {},
   "source": [
    "#### Calculating: number of page visits per user for numerical features 3 - 8"
   ]
  },
  {
   "cell_type": "code",
   "execution_count": 94,
   "metadata": {
    "scrolled": false
   },
   "outputs": [],
   "source": [
    "def extract_events(df, col, event_name):\n",
    "    '''\n",
    "    extracting the event \"event_name\" of the column \"col\" of the dataframe \"df\" in question \n",
    "    ''' \n",
    "    df_event = df.filter(df[col] == event_name).groupBy('userID').count().\\\n",
    "    withColumnRenamed('count', 'num'+event_name.replace(' ', ''))\n",
    "    \n",
    "    return df_event"
   ]
  },
  {
   "cell_type": "code",
   "execution_count": 95,
   "metadata": {
    "scrolled": false
   },
   "outputs": [],
   "source": [
    "events = ['Add Friend', 'Add to Playlist', 'NextSong', 'Roll Advert', 'Thumbs Down', 'Thumbs Up']\n",
    "for event in events:\n",
    "    df_temp = extract_events(df_clean, 'page', event)\n",
    "    data = data.join(extract_events(df_clean, 'page', event), 'userID')"
   ]
  },
  {
   "cell_type": "markdown",
   "metadata": {},
   "source": [
    "#### Calculation for numerical feature: number of artists listened to\n",
    "\n",
    "As mentioned above though, this features heavily depends on the fact if the two months time period covered by the small dataset is long or short in comparision to the time of membership of churners. "
   ]
  },
  {
   "cell_type": "code",
   "execution_count": 96,
   "metadata": {
    "scrolled": false
   },
   "outputs": [
    {
     "name": "stdout",
     "output_type": "stream",
     "text": [
      "+------+----------+\n",
      "|userID|numArtists|\n",
      "+------+----------+\n",
      "|200002|       340|\n",
      "|100010|       253|\n",
      "|   125|         9|\n",
      "|    51|      1386|\n",
      "|   124|      2233|\n",
      "+------+----------+\n",
      "only showing top 5 rows\n",
      "\n"
     ]
    }
   ],
   "source": [
    "df_artist = df_clean.dropDuplicates(['userID', 'artist']).groupBy('userID').count().withColumnRenamed('count', 'numArtists')\n",
    "df_artist.show(5)"
   ]
  },
  {
   "cell_type": "markdown",
   "metadata": {},
   "source": [
    "#### Calculating: number of sessions per user for feature 11"
   ]
  },
  {
   "cell_type": "code",
   "execution_count": 97,
   "metadata": {
    "scrolled": true
   },
   "outputs": [
    {
     "name": "stdout",
     "output_type": "stream",
     "text": [
      "+------+-----------+\n",
      "|userID|numSessions|\n",
      "+------+-----------+\n",
      "|100010|          7|\n",
      "|200002|          6|\n",
      "|   125|          1|\n",
      "|    51|         10|\n",
      "|   124|         29|\n",
      "+------+-----------+\n",
      "only showing top 5 rows\n",
      "\n"
     ]
    }
   ],
   "source": [
    "df_session = df_clean.dropDuplicates(['userID', 'sessionID']).groupBy('userID').count().withColumnRenamed('count', 'numSessions')\n",
    "df_session.show(5)"
   ]
  },
  {
   "cell_type": "markdown",
   "metadata": {},
   "source": [
    "#### Calculation for numerical feature 11: number of activites (page visits) per user before noon\n",
    "This is chosen, as churners had more activity in the afternoon, as shown further above."
   ]
  },
  {
   "cell_type": "code",
   "execution_count": 98,
   "metadata": {
    "scrolled": true
   },
   "outputs": [
    {
     "name": "stdout",
     "output_type": "stream",
     "text": [
      "+------+------------+\n",
      "|userID|numFirstHalf|\n",
      "+------+------------+\n",
      "|200002|         113|\n",
      "|100010|         186|\n",
      "|   125|          11|\n",
      "|     7|         130|\n",
      "|    51|        1128|\n",
      "+------+------------+\n",
      "only showing top 5 rows\n",
      "\n"
     ]
    }
   ],
   "source": [
    "df_hour = df_clean.filter((df_clean['hour'] >= 1) & (df_clean['hour'] <= 12)).groupBy('userID').count()\\\n",
    ".withColumnRenamed('count', 'numFirstHalf')\n",
    "df_hour.show(5)"
   ]
  },
  {
   "cell_type": "markdown",
   "metadata": {},
   "source": [
    "#### Joining numerical data to `data` of categorical features 1-4"
   ]
  },
  {
   "cell_type": "code",
   "execution_count": 99,
   "metadata": {
    "scrolled": false
   },
   "outputs": [],
   "source": [
    "for df_temp in [df_time, df_session, df_events, df_hour, df_artist, df_reg]:\n",
    "    data = data.join(df_temp, 'userID')"
   ]
  },
  {
   "cell_type": "markdown",
   "metadata": {},
   "source": [
    "### Numerical Features 3 -10: ratios of page visits and artists over total number of events, per user\n",
    "3) ratioAddFriend\n",
    "\n",
    "4) ratioAddtoPlaylist\n",
    "\n",
    "5) ratioNextSong\n",
    "\n",
    "6) ratioRollAdvert\n",
    "\n",
    "7) ratioThumbsDown\n",
    "\n",
    "8) ratioThumbsUp\n",
    "\n",
    "9) ratioFirstHalf\n",
    "\n",
    "10) ratioArtists"
   ]
  },
  {
   "cell_type": "code",
   "execution_count": 100,
   "metadata": {
    "scrolled": false
   },
   "outputs": [],
   "source": [
    "# get relative size of numbers (normalized to number of events)\n",
    "numCols = ['numAddFriend', 'numAddtoPlaylist', 'numNextSong', 'numRollAdvert', \n",
    "           'numThumbsDown', 'numThumbsUp', 'numFirstHalf', 'numArtists']\n",
    "\n",
    "for numCol in numCols:\n",
    "    data = data.withColumn('ratio' + numCol[3:], (data[numCol] / data['numEvents']))\n",
    "    data = data.drop(numCol)"
   ]
  },
  {
   "cell_type": "markdown",
   "metadata": {},
   "source": [
    "### Numerical Features 11 & 12:  Number of Events per Session, Time per Session"
   ]
  },
  {
   "cell_type": "code",
   "execution_count": 101,
   "metadata": {
    "scrolled": false
   },
   "outputs": [],
   "source": [
    "# events per Session\n",
    "data = data.withColumn('numPerSession', (data['numEvents'] / data['numSessions']))\n",
    "# time per session\n",
    "data = data.withColumn('timePerEvent', (data['totalTime'] / data['numEvents']))\n",
    "data = data.drop('numSessions')\n",
    "data = data.drop('totalTime')"
   ]
  },
  {
   "cell_type": "markdown",
   "metadata": {},
   "source": [
    "## Final features columns and check of correlation"
   ]
  },
  {
   "cell_type": "code",
   "execution_count": 102,
   "metadata": {},
   "outputs": [
    {
     "data": {
      "text/plain": [
       "['userID',\n",
       " 'gender',\n",
       " 'churn',\n",
       " 'level',\n",
       " 'platform',\n",
       " 'state',\n",
       " 'numEvents',\n",
       " 'regDays',\n",
       " 'ratioAddFriend',\n",
       " 'ratioAddtoPlaylist',\n",
       " 'ratioNextSong',\n",
       " 'ratioRollAdvert',\n",
       " 'ratioThumbsDown',\n",
       " 'ratioThumbsUp',\n",
       " 'ratioFirstHalf',\n",
       " 'ratioArtists',\n",
       " 'numPerSession',\n",
       " 'timePerEvent']"
      ]
     },
     "execution_count": 102,
     "metadata": {},
     "output_type": "execute_result"
    }
   ],
   "source": [
    "data.columns"
   ]
  },
  {
   "cell_type": "code",
   "execution_count": 103,
   "metadata": {
    "scrolled": false
   },
   "outputs": [
    {
     "name": "stdout",
     "output_type": "stream",
     "text": [
      "-RECORD 0----------------------------------\n",
      " userID             | 100010               \n",
      " gender             | F                    \n",
      " churn              | 0                    \n",
      " level              | free                 \n",
      " platform           | iPhone               \n",
      " state              | CT                   \n",
      " numEvents          | 381                  \n",
      " regDays            | 55.64365740740741    \n",
      " ratioAddFriend     | 0.010498687664041995 \n",
      " ratioAddtoPlaylist | 0.01837270341207349  \n",
      " ratioNextSong      | 0.7217847769028871   \n",
      " ratioRollAdvert    | 0.13648293963254593  \n",
      " ratioThumbsDown    | 0.013123359580052493 \n",
      " ratioThumbsUp      | 0.04461942257217848  \n",
      " ratioFirstHalf     | 0.4881889763779528   \n",
      " ratioArtists       | 0.6640419947506562   \n",
      " numPerSession      | 54.42857142857143    \n",
      " timePerEvent       | 175.6978933070867    \n",
      "only showing top 1 row\n",
      "\n"
     ]
    }
   ],
   "source": [
    "data.show(1, vertical = True)"
   ]
  },
  {
   "cell_type": "code",
   "execution_count": 104,
   "metadata": {},
   "outputs": [
    {
     "name": "stdout",
     "output_type": "stream",
     "text": [
      "CPU times: user 109 ms, sys: 25.6 ms, total: 134 ms\n",
      "Wall time: 2min 1s\n"
     ]
    }
   ],
   "source": [
    "%%time\n",
    "data_tPand_corr = data.toPandas().corr()"
   ]
  },
  {
   "cell_type": "code",
   "execution_count": 105,
   "metadata": {},
   "outputs": [
    {
     "data": {
      "image/png": "[encoded data removed]",
      "text/plain": [
       "<matplotlib.figure.Figure at 0x7f9e28826320>"
      ]
     },
     "metadata": {},
     "output_type": "display_data"
    },
    {
     "name": "stdout",
     "output_type": "stream",
     "text": [
      "CPU times: user 1.38 s, sys: 59.4 ms, total: 1.44 s\n",
      "Wall time: 1.8 s\n"
     ]
    }
   ],
   "source": [
    "%%time\n",
    "#checking that there is low correlation of columns\n",
    "fig, ax = plt.subplots(figsize=(15, 15))\n",
    "ax = sns.heatmap(data_tPand_corr, cmap='RdBu', linewidths = 1, square = True, annot = True)\n",
    "plt.tight_layout()\n",
    "plt.show()"
   ]
  },
  {
   "cell_type": "markdown",
   "metadata": {},
   "source": [
    "Checking the degree of correlation between the columns of features: only slight correlation --> should work for modelling."
   ]
  },
  {
   "cell_type": "code",
   "execution_count": 137,
   "metadata": {},
   "outputs": [
    {
     "name": "stdout",
     "output_type": "stream",
     "text": [
      "Duration till saving csv-file: 27.1 minutes\n"
     ]
    }
   ],
   "source": [
    "t_till_saving = (time.time() - start_1)/60\n",
    "print('Duration till saving csv-file: {0:.1f} minutes'.format(t_till_saving))"
   ]
  },
  {
   "cell_type": "code",
   "execution_count": 139,
   "metadata": {},
   "outputs": [],
   "source": [
    "startcsv=time.time()"
   ]
  },
  {
   "cell_type": "code",
   "execution_count": 140,
   "metadata": {
    "scrolled": false
   },
   "outputs": [],
   "source": [
    "# Dataframe is saved as comma separated file\n",
    "data.write.csv('features_data.csv', mode = 'overwrite', header = True)"
   ]
  },
  {
   "cell_type": "code",
   "execution_count": 141,
   "metadata": {},
   "outputs": [
    {
     "name": "stdout",
     "output_type": "stream",
     "text": [
      "Duration: 2.3 minutes\n"
     ]
    }
   ],
   "source": [
    "t_csv = (time.time() - startcsv)/60\n",
    "print('Duration: {0:.1f} minutes'.format(t_csv))"
   ]
  },
  {
   "cell_type": "markdown",
   "metadata": {},
   "source": [
    "# Modeling\n",
    "\n",
    "Split the full dataset into train, test, and validation sets. Test out several of the machine learning methods you learned. Evaluate the accuracy of the various models, tuning parameters as necessary. Determine your winning model based on test accuracy and report results on the validation set.**Since the churned users are a fairly small subset, I suggest using F1 score as the metric to optimize.**\n",
    "\n",
    "As shown in the extracurricular lesson a pipeline is employed to prepare the modelling data, followed by the split into train- and test-data. The parameters are tuned the F1 score will be evaluated.\n",
    "Since the compilation of the whole notebook took about half an hour in the workspace, several time durations are checked just for information purposes."
   ]
  },
  {
   "cell_type": "markdown",
   "metadata": {},
   "source": [
    "## Data Preparation"
   ]
  },
  {
   "cell_type": "markdown",
   "metadata": {},
   "source": [
    "#### Extract, transform and load pipeline"
   ]
  },
  {
   "cell_type": "code",
   "execution_count": 179,
   "metadata": {
    "scrolled": false
   },
   "outputs": [],
   "source": [
    "# Creating the dummy variables for the categorical data with one-hot encodinger\n",
    "\n",
    "data_cleaned = spark.read.csv('features_data.csv', inferSchema = True, header=True)\n",
    "etl_stages = []\n",
    "\n",
    "categorical_cols = ['gender', 'level', 'platform', 'state']\n",
    "numerical_cols = [col for col in data_cleaned.columns if col not in categorical_cols]\n",
    "numerical_cols.remove('churn')\n",
    "numerical_cols.remove('userID')\n",
    "\n",
    "for categorical_col in categorical_cols:\n",
    "    stringIndexer = StringIndexer(inputCol=categorical_col, outputCol=categorical_col + 'Index', stringOrderType='alphabetDesc')\n",
    "    etl_stages.append(stringIndexer)\n",
    "    \n",
    "oh_encoder = OneHotEncoderEstimator(inputCols=[col + 'Index' for col in categorical_cols], outputCols=[col + 'Vec' for col in categorical_cols])\n",
    "etl_stages.append(oh_encoder)\n",
    "\n",
    "assemble_Vectors = VectorAssembler(inputCols=[col + 'Vec' for col in categorical_cols] + numerical_cols, outputCol='features') # Combine features\n",
    "etl_stages.append(assemble_Vectors)\n",
    "etl_pipeline = Pipeline(stages=etl_stages)"
   ]
  },
  {
   "cell_type": "markdown",
   "metadata": {},
   "source": [
    "## Split in Train- and Test-data"
   ]
  },
  {
   "cell_type": "code",
   "execution_count": 180,
   "metadata": {
    "scrolled": false
   },
   "outputs": [],
   "source": [
    "# 70% train, 30% test split\n",
    "data_cleaned = etl_pipeline.fit(data_cleaned).transform(data_cleaned)\n",
    "train, test = data_cleaned.randomSplit([0.7, 0.3])"
   ]
  },
  {
   "cell_type": "markdown",
   "metadata": {},
   "source": [
    "### Function to apply on the classification algorithms below"
   ]
  },
  {
   "cell_type": "markdown",
   "metadata": {},
   "source": [
    "#### Evaluation function 1: checking the classification algorithm (model) with different parameters"
   ]
  },
  {
   "cell_type": "code",
   "execution_count": 181,
   "metadata": {
    "scrolled": false
   },
   "outputs": [],
   "source": [
    "def sum_model_performance(model, labels):\n",
    "    '''\n",
    "    Summarizing the hyper-parameters with scores for the model into a Dataframe\n",
    "    Input:  model:  a fitted CrossValidatorModel\n",
    "            labels: a list of strings, the name of the metric and the hyper-parameters\n",
    "    Output: df: a Dataframe containing the hyper-parameters with the scores for the models\n",
    "    '''\n",
    "    df_lists = []\n",
    "    \n",
    "    for i, grid in enumerate(model.getEstimatorParamMaps()):\n",
    "        df_list = []\n",
    "        df_list.append(model.avgMetrics[i])\n",
    "        for param in grid.values():\n",
    "            df_list.append(param)\n",
    "        df_lists.append(df_list)\n",
    "        \n",
    "    df = pd.DataFrame.from_records(df_lists, columns=labels)\n",
    "    F1_train_max = df['F1 score'].max()\n",
    "    print('{0:.3f} ... max. F1 score, train dataset'.format(F1_train_max))\n",
    "    return df"
   ]
  },
  {
   "cell_type": "markdown",
   "metadata": {},
   "source": [
    "#### Evaluation function 2: checking classification algorithm with best parameters with the test data"
   ]
  },
  {
   "cell_type": "code",
   "execution_count": 182,
   "metadata": {
    "scrolled": false
   },
   "outputs": [],
   "source": [
    "def test_metrics(model):\n",
    "    '''\n",
    "    Performance check of the best model on the test data\n",
    "    Input:   model: a fitted CrossValidatorModel\n",
    "    Output:  None\n",
    "    '''\n",
    "    pred    = model.bestModel.transform(test)\n",
    "    F1_test = MulticlassClassificationEvaluator(predictionCol='prediction', labelCol='churn').evaluate(pred) \n",
    "    print('{0:.3f} ...      F1 score, test  dataset'.format(F1_test))\n",
    "    \n",
    "    return F1_test"
   ]
  },
  {
   "cell_type": "markdown",
   "metadata": {},
   "source": [
    "#### Plotting function 3: for result of Confusion matrix method\n",
    "The confusion matrix method will give an array that depicts the True Positives, False Positives, False Negatives, and True negatives.\n",
    "\n",
    "The plot will give back the numbers and percentages for each category."
   ]
  },
  {
   "cell_type": "code",
   "execution_count": 183,
   "metadata": {
    "scrolled": false
   },
   "outputs": [],
   "source": [
    "def plot_confmatrix(model):\n",
    "    '''\n",
    "    Function to calulate and visualize the confusion matrix\n",
    "    Input:  model: a fitted CrossValidatorModel\n",
    "    Output: None, but printing the confusion matrix and diagram.\n",
    "    \n",
    "    Code from: https://stackoverflow.com/questions/59839782/confusion-matrix-font-size \n",
    "    '''\n",
    "    predictions = model.bestModel.transform(test)\n",
    "    predictionAndLabels = predictions.rdd.map(lambda lp: (float(lp.prediction), float(lp.churn)))\n",
    "    confmatr = MulticlassMetrics(predictionAndLabels).confusionMatrix().toArray()\n",
    "    #confmatr = confmatr.astype('float') / confmatr.sum(axis = 1)[:, np.newaxis]\n",
    "    print(confmatr)\n",
    "    plt.figure(figsize = (16,5))\n",
    "    sns.set(font_scale=2)\n",
    "    \n",
    "    group_names = ['True Neg','False Pos','False Neg','True Pos']\n",
    "    group_counts = [\"{0:0.0f}\".format(value) for value in\n",
    "                    confmatr.flatten()]\n",
    "\n",
    "    group_percentages = [\"{0:.1%}\".format(value) for value in\n",
    "                         confmatr.flatten()/np.sum(confmatr)]\n",
    "\n",
    "    labels = [f\"{v1}\\n{v2}\\n{v3}\" for v1, v2, v3 in\n",
    "              zip(group_names,group_counts,group_percentages)]\n",
    "\n",
    "    labels = np.asarray(labels).reshape(2,2)\n",
    "\n",
    "    ax = sns.heatmap(confmatr, annot=labels, fmt='', cmap='Blues')\n",
    "\n",
    "    ax.set_title('Normalized Confusion matrix\\n');\n",
    "    ax.set_xlabel('\\nPredicted Churn Values')\n",
    "    ax.set_ylabel('Actual Churn Values');\n",
    "    ax.xaxis.set_ticklabels(['0','1'])\n",
    "    ax.yaxis.set_ticklabels(['0','1'])\n",
    "\n",
    "    plt.show()\n",
    "    print(\"The plot shows the values and the normalized fractions for each category of: True negatives, False Positives, False Negatives and True Positives.\")\n",
    "    "
   ]
  },
  {
   "cell_type": "markdown",
   "metadata": {},
   "source": [
    "## Using and evaluating different supervised-learning classification algorithms\n",
    "\n",
    "1) Logistic Regression\n",
    "\n",
    "2) Random Forest\n",
    "\n",
    "3) Gradient-Boosted Trees\n",
    "\n",
    "4) Naive Bayes\n",
    "\n",
    "As mentioned mentioned in the project description F1-score evaluation will be used due to the skewed data."
   ]
  },
  {
   "cell_type": "markdown",
   "metadata": {},
   "source": [
    "### 1) Logistic Regression"
   ]
  },
  {
   "cell_type": "code",
   "execution_count": 184,
   "metadata": {},
   "outputs": [],
   "source": [
    "startlr=time.time()"
   ]
  },
  {
   "cell_type": "code",
   "execution_count": 185,
   "metadata": {
    "scrolled": false
   },
   "outputs": [],
   "source": [
    "lr = LogisticRegression(labelCol='churn')\n",
    "\n",
    "param_grid_lr = ParamGridBuilder().addGrid(lr.aggregationDepth, [2, 10])  .addGrid(lr.elasticNetParam, [0, 0.3]) \\\n",
    "                                  .addGrid(lr.regParam, [0.01, 0.1, 0.3]) .build()\n",
    "cv_lr = CrossValidator(estimator=lr, estimatorParamMaps=param_grid_lr, \n",
    "                       evaluator=MulticlassClassificationEvaluator(labelCol='churn'), numFolds=3, seed=35)\n",
    "lr_model = cv_lr.fit(train)"
   ]
  },
  {
   "cell_type": "code",
   "execution_count": 186,
   "metadata": {},
   "outputs": [
    {
     "name": "stdout",
     "output_type": "stream",
     "text": [
      "Duration: 3.7 minutes\n"
     ]
    }
   ],
   "source": [
    "#start=time.time()\n",
    "t_lr = (time.time() - startlr)/60\n",
    "print('Duration: {0:.1f} minutes'.format(t_lr))"
   ]
  },
  {
   "cell_type": "code",
   "execution_count": 187,
   "metadata": {
    "scrolled": false
   },
   "outputs": [
    {
     "name": "stdout",
     "output_type": "stream",
     "text": [
      "0.694 ... max. F1 score, train dataset\n",
      "0.791 ...      F1 score, test  dataset\n"
     ]
    }
   ],
   "source": [
    "lr_F1_train_max = sum_model_performance(lr_model, ['F1 score', 'regParam', 'elasticNetParam', 'aggregationDepth'])['F1 score'].max()\n",
    "lr_F1_test = test_metrics(lr_model)"
   ]
  },
  {
   "cell_type": "code",
   "execution_count": 188,
   "metadata": {},
   "outputs": [
    {
     "name": "stdout",
     "output_type": "stream",
     "text": [
      "Duration: 3.7 minutes\n"
     ]
    }
   ],
   "source": [
    "t_lr = (time.time() - startlr)/60\n",
    "print('Duration: {0:.1f} minutes'.format(t_lr))"
   ]
  },
  {
   "cell_type": "code",
   "execution_count": 189,
   "metadata": {
    "scrolled": false
   },
   "outputs": [
    {
     "name": "stdout",
     "output_type": "stream",
     "text": [
      "[[ 30.   7.]\n",
      " [  3.   4.]]\n"
     ]
    },
    {
     "data": {
      "image/png": "[encoded data removed]",
      "text/plain": [
       "<matplotlib.figure.Figure at 0x7f9e32669978>"
      ]
     },
     "metadata": {},
     "output_type": "display_data"
    },
    {
     "name": "stdout",
     "output_type": "stream",
     "text": [
      "The plot shows the values and the normalized fractions for each category of: True negatives, False Positives, False Negatives and True Positives.\n"
     ]
    }
   ],
   "source": [
    "plot_confmatrix(lr_model)"
   ]
  },
  {
   "cell_type": "markdown",
   "metadata": {},
   "source": [
    "### 2) Random Forest"
   ]
  },
  {
   "cell_type": "code",
   "execution_count": 190,
   "metadata": {},
   "outputs": [],
   "source": [
    "startrf=time.time()"
   ]
  },
  {
   "cell_type": "code",
   "execution_count": 191,
   "metadata": {
    "scrolled": false
   },
   "outputs": [],
   "source": [
    "rf = RandomForestClassifier(labelCol='churn')\n",
    "\n",
    "param_grid_rf = ParamGridBuilder()            .addGrid(rf.featureSubsetStrategy, ['sqrt', 'all']) \\\n",
    "    .addGrid(rf.impurity, ['entropy', 'gini']).addGrid(rf.maxDepth, [5, 10]) \\\n",
    "    .addGrid(rf.numTrees, [10, 20])           .build()\n",
    "\n",
    "cv_rf = CrossValidator(estimator=rf, estimatorParamMaps=param_grid_rf, \n",
    "                       evaluator=MulticlassClassificationEvaluator(labelCol='churn'),numFolds=3, seed=35)\n",
    "\n",
    "rf_model = cv_rf.fit(train)"
   ]
  },
  {
   "cell_type": "code",
   "execution_count": 192,
   "metadata": {
    "scrolled": false
   },
   "outputs": [
    {
     "name": "stdout",
     "output_type": "stream",
     "text": [
      "0.834 ... max. F1 score, train dataset\n",
      "0.845 ...      F1 score, test  dataset\n"
     ]
    }
   ],
   "source": [
    "rf_F1_train_max = sum_model_performance(rf_model, ['F1 score', 'featureSubsetStrategy', 'impurity', 'maxDepth', 'numTrees'])['F1 score'].max()\n",
    "rf_F1_test = test_metrics(rf_model)"
   ]
  },
  {
   "cell_type": "code",
   "execution_count": 193,
   "metadata": {},
   "outputs": [
    {
     "name": "stdout",
     "output_type": "stream",
     "text": [
      "Duration: 1.1 minutes\n"
     ]
    }
   ],
   "source": [
    "t_rf = (time.time() - startrf)/60\n",
    "print('Duration: {0:.1f} minutes'.format(t_rf))"
   ]
  },
  {
   "cell_type": "code",
   "execution_count": 194,
   "metadata": {
    "scrolled": false
   },
   "outputs": [
    {
     "name": "stdout",
     "output_type": "stream",
     "text": [
      "[[ 33.   4.]\n",
      " [  3.   4.]]\n"
     ]
    },
    {
     "data": {
      "image/png": "[encoded data removed]",
      "text/plain": [
       "<matplotlib.figure.Figure at 0x7f9e242da128>"
      ]
     },
     "metadata": {},
     "output_type": "display_data"
    },
    {
     "name": "stdout",
     "output_type": "stream",
     "text": [
      "The plot shows the values and the normalized fractions for each category of: True negatives, False Positives, False Negatives and True Positives.\n"
     ]
    }
   ],
   "source": [
    "plot_confmatrix(rf_model)"
   ]
  },
  {
   "cell_type": "markdown",
   "metadata": {},
   "source": [
    "### 3) Gradient-Boosted Trees"
   ]
  },
  {
   "cell_type": "code",
   "execution_count": 195,
   "metadata": {},
   "outputs": [],
   "source": [
    "startgbt=time.time()"
   ]
  },
  {
   "cell_type": "code",
   "execution_count": 196,
   "metadata": {
    "scrolled": false
   },
   "outputs": [],
   "source": [
    "gbt = GBTClassifier(labelCol='churn')\n",
    "\n",
    "param_grid_gbt = ParamGridBuilder()    .addGrid(gbt.featureSubsetStrategy, ['sqrt', 'all']) \\\n",
    "    .addGrid(gbt.maxIter, [10, 20])    .addGrid(gbt.maxDepth, [5, 10])   .addGrid(gbt.stepSize, [0.1, 0.3]) .build()\n",
    "\n",
    "cv_gbt = CrossValidator(estimator=gbt, estimatorParamMaps=param_grid_gbt, \n",
    "                        evaluator=MulticlassClassificationEvaluator(labelCol='churn'), numFolds=3, seed=35)\n",
    "\n",
    "gbt_model = cv_gbt.fit(train)"
   ]
  },
  {
   "cell_type": "code",
   "execution_count": 197,
   "metadata": {
    "scrolled": false
   },
   "outputs": [
    {
     "name": "stdout",
     "output_type": "stream",
     "text": [
      "0.769 ... max. F1 score, train dataset\n",
      "0.774 ...      F1 score, test  dataset\n"
     ]
    }
   ],
   "source": [
    "gbt_F1_train_max = sum_model_performance(gbt_model, ['F1 score', 'featureSubsetStrategy', 'maxIter', 'maxDepth', 'stepSize'])['F1 score'].max()\n",
    "gbt_F1_test = test_metrics(gbt_model)"
   ]
  },
  {
   "cell_type": "code",
   "execution_count": 198,
   "metadata": {
    "scrolled": false
   },
   "outputs": [
    {
     "name": "stdout",
     "output_type": "stream",
     "text": [
      "0.774 ...      F1 score, test  dataset\n"
     ]
    }
   ],
   "source": [
    "gbt_F1_test = test_metrics(gbt_model)"
   ]
  },
  {
   "cell_type": "code",
   "execution_count": 199,
   "metadata": {},
   "outputs": [
    {
     "name": "stdout",
     "output_type": "stream",
     "text": [
      "Duration: 8.3 minutes\n"
     ]
    }
   ],
   "source": [
    "t_gbt = (time.time() - startgbt)/60\n",
    "print('Duration: {0:.1f} minutes'.format(t_gbt))"
   ]
  },
  {
   "cell_type": "code",
   "execution_count": 200,
   "metadata": {
    "scrolled": false
   },
   "outputs": [
    {
     "name": "stdout",
     "output_type": "stream",
     "text": [
      "[[ 29.   8.]\n",
      " [  3.   4.]]\n"
     ]
    },
    {
     "data": {
      "image/png": "[encoded data removed]",
      "text/plain": [
       "<matplotlib.figure.Figure at 0x7f9e27a36320>"
      ]
     },
     "metadata": {},
     "output_type": "display_data"
    },
    {
     "name": "stdout",
     "output_type": "stream",
     "text": [
      "The plot shows the values and the normalized fractions for each category of: True negatives, False Positives, False Negatives and True Positives.\n"
     ]
    }
   ],
   "source": [
    "plot_confmatrix(gbt_model)"
   ]
  },
  {
   "cell_type": "markdown",
   "metadata": {},
   "source": [
    "### 4) Naive Bayes"
   ]
  },
  {
   "cell_type": "code",
   "execution_count": 201,
   "metadata": {},
   "outputs": [],
   "source": [
    "startnb=time.time()"
   ]
  },
  {
   "cell_type": "code",
   "execution_count": 202,
   "metadata": {
    "scrolled": false
   },
   "outputs": [],
   "source": [
    "nb = NaiveBayes(labelCol='churn')\n",
    "param_grid_nb = ParamGridBuilder().addGrid(nb.smoothing, [0, 1, 5]).build()\n",
    "cv_nb = CrossValidator(estimator=nb, estimatorParamMaps=param_grid_nb, \n",
    "                       evaluator=MulticlassClassificationEvaluator(labelCol='churn'),numFolds=3, seed=35)\n",
    "nb_model = cv_nb.fit(train)"
   ]
  },
  {
   "cell_type": "code",
   "execution_count": 203,
   "metadata": {
    "scrolled": false
   },
   "outputs": [
    {
     "name": "stdout",
     "output_type": "stream",
     "text": [
      "0.644 ... max. F1 score, train dataset\n",
      "0.744 ...      F1 score, test  dataset\n"
     ]
    }
   ],
   "source": [
    "nb_F1_train_max = sum_model_performance(nb_model, ['F1 score', 'smoothing'])['F1 score'].max()\n",
    "nb_F1_test = test_metrics(nb_model)"
   ]
  },
  {
   "cell_type": "code",
   "execution_count": 204,
   "metadata": {},
   "outputs": [
    {
     "name": "stdout",
     "output_type": "stream",
     "text": [
      "Duration: 0.1 minutes\n"
     ]
    }
   ],
   "source": [
    "t_nb = (time.time() - startnb)/60\n",
    "print('Duration: {0:.1f} minutes'.format(t_nb))"
   ]
  },
  {
   "cell_type": "code",
   "execution_count": 205,
   "metadata": {
    "scrolled": false
   },
   "outputs": [
    {
     "name": "stdout",
     "output_type": "stream",
     "text": [
      "[[ 25.  12.]\n",
      " [  1.   6.]]\n"
     ]
    },
    {
     "data": {
      "image/png": "[encoded data removed]",
      "text/plain": [
       "<matplotlib.figure.Figure at 0x7f9e2a212dd8>"
      ]
     },
     "metadata": {},
     "output_type": "display_data"
    },
    {
     "name": "stdout",
     "output_type": "stream",
     "text": [
      "The plot shows the values and the normalized fractions for each category of: True negatives, False Positives, False Negatives and True Positives.\n"
     ]
    }
   ],
   "source": [
    "plot_confmatrix(nb_model)"
   ]
  },
  {
   "cell_type": "markdown",
   "metadata": {},
   "source": [
    "## Results\n",
    "### Overview of F1-scores, computing time and discussion"
   ]
  },
  {
   "cell_type": "markdown",
   "metadata": {},
   "source": [
    "#### F1-score on test data"
   ]
  },
  {
   "cell_type": "code",
   "execution_count": 206,
   "metadata": {},
   "outputs": [
    {
     "name": "stdout",
     "output_type": "stream",
     "text": [
      "   F1 Scores  |\n",
      "train |  test | minutes  \n",
      "-----------------------\n",
      "0.694 | 0.791 | 3.7 min .... 1) Logistic Regression\n",
      "0.834 | 0.845 | 1.1 min .... 2) Random Forest\n",
      "0.769 | 0.774 | 8.3 min .... 3) Gradient-Boosted Trees\n",
      "0.644 | 0.744 | 0.1 min .... 4) Naive Bayes\n"
     ]
    }
   ],
   "source": [
    "print(\"   F1 Scores  |\")\n",
    "print('train |  test | minutes  ')\n",
    "print(\"-----------------------\")\n",
    "print('{0:.3f} | {1:.3f} | {2:.1f} min .... 1) Logistic Regression'   .format(lr_F1_train_max, lr_F1_test, t_lr))\n",
    "print('{0:.3f} | {1:.3f} | {2:.1f} min .... 2) Random Forest'         .format(rf_F1_train_max, rf_F1_test, t_rf))\n",
    "print('{0:.3f} | {1:.3f} | {2:.1f} min .... 3) Gradient-Boosted Trees'.format(gbt_F1_train_max, gbt_F1_test, t_gbt))\n",
    "print('{0:.3f} | {1:.3f} | {2:.1f} min .... 4) Naive Bayes'           .format(nb_F1_train_max, nb_F1_test, t_nb))"
   ]
  },
  {
   "cell_type": "markdown",
   "metadata": {},
   "source": [
    "\n",
    "The best prediction of the test data, i.e. \"which user has churned\" was achieved with the **Random Forest** classification algorithm.\n",
    "\n",
    "The train data was also fitted with an F1-Score close to and smaller to the test data, suggesting there is little to no overfitting.\n",
    "\n",
    "The whole notebook usually took about half an hour to compile."
   ]
  },
  {
   "cell_type": "code",
   "execution_count": 170,
   "metadata": {
    "scrolled": false
   },
   "outputs": [
    {
     "name": "stdout",
     "output_type": "stream",
     "text": [
      "60.5 minutes = time to run the whole Jypiter notebook in the Udacity workspace.\n"
     ]
    }
   ],
   "source": [
    "print('{0:.1f} minutes = time to run the whole Jypiter notebook in the Udacity workspace.'.format((time.time() - start_1)/60))"
   ]
  },
  {
   "cell_type": "markdown",
   "metadata": {},
   "source": [
    "## Conclusion"
   ]
  },
  {
   "cell_type": "markdown",
   "metadata": {},
   "source": [
    "### Reflection\n",
    "\n",
    "The most important finding of whatever modeling is applied, are the true-positives regarding churning. So we want to be able to predict the users that will quit the servise in order to apply countermeasures. \n",
    "In the confusion diagram, the true positives are reflected in the lower right corner (Actual = \"1\" and Predict = \"1\" with 1 meannin g to churn). So besides the F1 Score, also the performance regarding the true positives is important."
   ]
  },
  {
   "cell_type": "markdown",
   "metadata": {},
   "source": [
    "### Possible Improvements\n",
    "1) Regarding the short time period of the data: the trivial imporvement for better is most probably to have more data. Especially on more users and also spanning a longer consecutive time period.\n",
    "\n",
    "2) A closer look can be taken on the comparision of how users behave in the first period of time e.g. weeks of registration. then in the middle of their memebership (or certain weeks after their registration) and in the weeks before quiting the serivice. Maybe a pattern e.g. the number of visits and time spent can be observed. \n",
    "\n",
    "3) When a longer time period is covered by the data, also the time points of external events should be considered. e.g. more quitters once international travel is allowed after a period of travel bans. Or once restaurants can opend after a pandemic lockdown etc."
   ]
  },
  {
   "cell_type": "markdown",
   "metadata": {},
   "source": [
    "# Final Steps\n",
    "Clean up your code, adding comments and renaming variables to make the code easier to read and maintain. Refer to the Spark Project Overview page and Data Scientist Capstone Project Rubric to make sure you are including all components of the capstone project and meet all expectations. Remember, this includes thorough documentation in a README file in a Github repository, as well as a web app or blog post."
   ]
  }
 ],
 "metadata": {
  "kernelspec": {
   "display_name": "Python 3",
   "language": "python",
   "name": "python3"
  },
  "language_info": {
   "codemirror_mode": {
    "name": "ipython",
    "version": 3
   },
   "file_extension": ".py",
   "mimetype": "text/x-python",
   "name": "python",
   "nbconvert_exporter": "python",
   "pygments_lexer": "ipython3",
   "version": "3.6.3"
  }
 },
 "nbformat": 4,
 "nbformat_minor": 2
}
